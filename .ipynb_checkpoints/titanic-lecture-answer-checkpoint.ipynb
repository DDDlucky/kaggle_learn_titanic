{
 "cells": [
  {
   "cell_type": "markdown",
   "metadata": {
    "papermill": {
     "duration": 0.053556,
     "end_time": "2021-01-03T02:56:53.848265",
     "exception": false,
     "start_time": "2021-01-03T02:56:53.794709",
     "status": "completed"
    },
    "tags": []
   },
   "source": [
    "# 目次\n",
    "## 1. 準備\n",
    "### 1-1. セルの実行\n",
    "### 1-2. ライブラリのインポート\n",
    "### 1-3. データのロード\n",
    "## 2. EDA\n",
    "### 2-1. サンプル数\n",
    "### 2-2. 特徴量の数\n",
    "### 2-3. データ型\n",
    "### 2-4. 欠損値\n",
    "### 2-5. 要約統計量\n",
    "### 2-6. ヒストグラム\n",
    "### 2-7. 集計\n",
    "### 2-8. クロス集計\n",
    "### 2-9. 相関係数\n",
    "## 3. 特徴量エンジニアリング\n",
    "### 3-1. ベースラインと精度評価\n",
    "### 3-2. カテゴリ変数\n",
    "### 3-3. ユニークな要素の個数\n",
    "### 3-4. One-Hotエンコーディング\n",
    "### 3-5. ダミーコーディング\n",
    "### 3-6. 文字列処理\n",
    "### 3-7. 主成分分析\n",
    "### 3-8. パイプライン\n",
    "## 4. モデリング\n",
    "### 4-1. サポートベクターマシーン\n",
    "### 4-2. サポートベクターマシーンのハイパーパラメータ\n",
    "### 4-3. ニューラルネットワーク\n",
    "### 4-4. ニューラルネットワークのハイパーパラメータ\n",
    "### 4-5. 決定木\n",
    "### 4-6. 決定木のハイパーパラメータ\n",
    "### 4-7. ランダムフォレスト\n",
    "### 4-8. ランダムフォレストのハイパーパラメータ\n",
    "### 4-9. k近傍法\n",
    "### 4-10. k近傍法のハイパーパラメータ\n",
    "### 4-11. ナイーブベイズ分類器\n",
    "### 4-12. ナイーブベイズ分類機のハイパーパラメータ\n",
    "### 4-13. LightGBM\n",
    "### 4-14. LightGBMのハイパーパラメータ\n",
    "## 5. 提出\n",
    "### 5-1. return_estimator\n",
    "### 5-2. テストデータの予測\n",
    "### 5-3. 提出用csvの保存\n",
    "### 5-4. 提出\n",
    "## 6. 発展\n",
    "### 6-1. グリッドサーチ\n",
    "### 6-2. ブレンディング\n",
    "### 6-3. スタッキング\n",
    "### 6-4. 特徴選択\n",
    "### 6-5. TabNet"
   ]
  },
  {
   "cell_type": "markdown",
   "metadata": {
    "papermill": {
     "duration": 0.051816,
     "end_time": "2021-01-03T02:56:53.952178",
     "exception": false,
     "start_time": "2021-01-03T02:56:53.900362",
     "status": "completed"
    },
    "tags": []
   },
   "source": [
    "1-1. セルの実行"
   ]
  },
  {
   "cell_type": "code",
   "execution_count": 1,
   "metadata": {
    "_cell_guid": "b1076dfc-b9ad-4769-8c92-a6c4dae69d19",
    "_uuid": "8f2839f25d086af736a60e9eeb907d3b93b6e0e5",
    "execution": {
     "iopub.execute_input": "2021-01-03T02:56:54.065514Z",
     "iopub.status.busy": "2021-01-03T02:56:54.064906Z",
     "iopub.status.idle": "2021-01-03T02:56:54.070663Z",
     "shell.execute_reply": "2021-01-03T02:56:54.071291Z"
    },
    "papermill": {
     "duration": 0.066892,
     "end_time": "2021-01-03T02:56:54.071448",
     "exception": false,
     "start_time": "2021-01-03T02:56:54.004556",
     "status": "completed"
    },
    "tags": []
   },
   "outputs": [
    {
     "name": "stdout",
     "output_type": "stream",
     "text": [
      "/kaggle/input/titanic/train.csv\n",
      "/kaggle/input/titanic/test.csv\n",
      "/kaggle/input/titanic/gender_submission.csv\n"
     ]
    }
   ],
   "source": [
    "# This Python 3 environment comes with many helpful analytics libraries installed\n",
    "# It is defined by the kaggle/python Docker image: https://github.com/kaggle/docker-python\n",
    "# For example, here's several helpful packages to load\n",
    "\n",
    "import numpy as np # linear algebra\n",
    "import pandas as pd # data processing, CSV file I/O (e.g. pd.read_csv)\n",
    "\n",
    "# Input data files are available in the read-only \"../input/\" directory\n",
    "# For example, running this (by clicking run or pressing Shift+Enter) will list all files under the input directory\n",
    "\n",
    "import os\n",
    "for dirname, _, filenames in os.walk('/kaggle/input'):\n",
    "    for filename in filenames:\n",
    "        print(os.path.join(dirname, filename))\n",
    "\n",
    "# You can write up to 20GB to the current directory (/kaggle/working/) that gets preserved as output when you create a version using \"Save & Run All\" \n",
    "# You can also write temporary files to /kaggle/temp/, but they won't be saved outside of the current session"
   ]
  },
  {
   "cell_type": "markdown",
   "metadata": {
    "papermill": {
     "duration": 0.052652,
     "end_time": "2021-01-03T02:56:54.180253",
     "exception": false,
     "start_time": "2021-01-03T02:56:54.127601",
     "status": "completed"
    },
    "tags": []
   },
   "source": [
    "1-2. ライブラリのインポート"
   ]
  },
  {
   "cell_type": "code",
   "execution_count": 2,
   "metadata": {
    "execution": {
     "iopub.execute_input": "2021-01-03T02:56:54.298282Z",
     "iopub.status.busy": "2021-01-03T02:56:54.296326Z",
     "iopub.status.idle": "2021-01-03T02:56:55.554082Z",
     "shell.execute_reply": "2021-01-03T02:56:55.553502Z"
    },
    "papermill": {
     "duration": 1.320743,
     "end_time": "2021-01-03T02:56:55.554199",
     "exception": false,
     "start_time": "2021-01-03T02:56:54.233456",
     "status": "completed"
    },
    "tags": []
   },
   "outputs": [
    {
     "data": {
      "text/html": [
       "<style type='text/css'>\n",
       ".datatable table.frame { margin-bottom: 0; }\n",
       ".datatable table.frame thead { border-bottom: none; }\n",
       ".datatable table.frame tr.coltypes td {  color: #FFFFFF;  line-height: 6px;  padding: 0 0.5em;}\n",
       ".datatable .bool    { background: #DDDD99; }\n",
       ".datatable .object  { background: #565656; }\n",
       ".datatable .int     { background: #5D9E5D; }\n",
       ".datatable .float   { background: #4040CC; }\n",
       ".datatable .str     { background: #CC4040; }\n",
       ".datatable .row_index {  background: var(--jp-border-color3);  border-right: 1px solid var(--jp-border-color0);  color: var(--jp-ui-font-color3);  font-size: 9px;}\n",
       ".datatable .frame tr.coltypes .row_index {  background: var(--jp-border-color0);}\n",
       ".datatable th:nth-child(2) { padding-left: 12px; }\n",
       ".datatable .hellipsis {  color: var(--jp-cell-editor-border-color);}\n",
       ".datatable .vellipsis {  background: var(--jp-layout-color0);  color: var(--jp-cell-editor-border-color);}\n",
       ".datatable .na {  color: var(--jp-cell-editor-border-color);  font-size: 80%;}\n",
       ".datatable .footer { font-size: 9px; }\n",
       ".datatable .frame_dimensions {  background: var(--jp-border-color3);  border-top: 1px solid var(--jp-border-color0);  color: var(--jp-ui-font-color3);  display: inline-block;  opacity: 0.6;  padding: 1px 10px 1px 5px;}\n",
       "</style>\n"
      ],
      "text/plain": [
       "<IPython.core.display.HTML object>"
      ]
     },
     "metadata": {},
     "output_type": "display_data"
    }
   ],
   "source": [
    "import matplotlib.pyplot as plt\n",
    "import seaborn as sns\n",
    "from sklearn.linear_model import LogisticRegression\n",
    "from sklearn.model_selection import cross_validate\n",
    "from sklearn.decomposition import PCA\n",
    "from sklearn.svm import SVC\n",
    "from sklearn.neural_network import MLPClassifier\n",
    "from sklearn import tree\n",
    "from sklearn.ensemble import RandomForestClassifier\n",
    "from sklearn.neighbors import KNeighborsClassifier\n",
    "from sklearn.naive_bayes import BernoulliNB\n",
    "from sklearn.preprocessing import StandardScaler\n",
    "from sklearn.pipeline import make_pipeline, Pipeline\n",
    "from sklearn.pipeline import Pipeline\n",
    "from sklearn.model_selection import GridSearchCV\n",
    "import lightgbm as lgb\n",
    "from sklearn.ensemble import StackingClassifier\n",
    "from sklearn.feature_selection import SelectKBest"
   ]
  },
  {
   "cell_type": "markdown",
   "metadata": {
    "papermill": {
     "duration": 0.053771,
     "end_time": "2021-01-03T02:56:55.662514",
     "exception": false,
     "start_time": "2021-01-03T02:56:55.608743",
     "status": "completed"
    },
    "tags": []
   },
   "source": [
    "1-3. データのロード"
   ]
  },
  {
   "cell_type": "code",
   "execution_count": 3,
   "metadata": {
    "execution": {
     "iopub.execute_input": "2021-01-03T02:56:55.778000Z",
     "iopub.status.busy": "2021-01-03T02:56:55.777354Z",
     "iopub.status.idle": "2021-01-03T02:56:55.806237Z",
     "shell.execute_reply": "2021-01-03T02:56:55.806738Z"
    },
    "papermill": {
     "duration": 0.090598,
     "end_time": "2021-01-03T02:56:55.806920",
     "exception": false,
     "start_time": "2021-01-03T02:56:55.716322",
     "status": "completed"
    },
    "tags": []
   },
   "outputs": [],
   "source": [
    "train_df = pd.read_csv('/kaggle/input/titanic/train.csv')\n",
    "test_df = pd.read_csv('/kaggle/input/titanic/test.csv')\n",
    "ss_df = pd.read_csv('/kaggle/input/titanic/gender_submission.csv')"
   ]
  },
  {
   "cell_type": "markdown",
   "metadata": {
    "papermill": {
     "duration": 0.053974,
     "end_time": "2021-01-03T02:56:55.914965",
     "exception": false,
     "start_time": "2021-01-03T02:56:55.860991",
     "status": "completed"
    },
    "tags": []
   },
   "source": [
    "2-1. サンプル数"
   ]
  },
  {
   "cell_type": "code",
   "execution_count": 4,
   "metadata": {
    "execution": {
     "iopub.execute_input": "2021-01-03T02:56:56.027976Z",
     "iopub.status.busy": "2021-01-03T02:56:56.027334Z",
     "iopub.status.idle": "2021-01-03T02:56:56.032227Z",
     "shell.execute_reply": "2021-01-03T02:56:56.031578Z"
    },
    "papermill": {
     "duration": 0.063483,
     "end_time": "2021-01-03T02:56:56.032331",
     "exception": false,
     "start_time": "2021-01-03T02:56:55.968848",
     "status": "completed"
    },
    "tags": []
   },
   "outputs": [
    {
     "name": "stdout",
     "output_type": "stream",
     "text": [
      "train: 891\n",
      "test: 418\n"
     ]
    }
   ],
   "source": [
    "# 解法1 組み込み関数lenを用いる\n",
    "print ('train:',len(train_df))\n",
    "print ('test:',len(test_df))"
   ]
  },
  {
   "cell_type": "code",
   "execution_count": 5,
   "metadata": {
    "execution": {
     "iopub.execute_input": "2021-01-03T02:56:56.146429Z",
     "iopub.status.busy": "2021-01-03T02:56:56.145261Z",
     "iopub.status.idle": "2021-01-03T02:56:56.151751Z",
     "shell.execute_reply": "2021-01-03T02:56:56.152470Z"
    },
    "papermill": {
     "duration": 0.06611,
     "end_time": "2021-01-03T02:56:56.152630",
     "exception": false,
     "start_time": "2021-01-03T02:56:56.086520",
     "status": "completed"
    },
    "tags": []
   },
   "outputs": [
    {
     "name": "stdout",
     "output_type": "stream",
     "text": [
      "train: 891\n",
      "test: 418\n"
     ]
    }
   ],
   "source": [
    "# 解法2 shapeを用いる\n",
    "print ('train:',train_df.shape[0])\n",
    "print ('test:',test_df.shape[0])"
   ]
  },
  {
   "cell_type": "markdown",
   "metadata": {
    "papermill": {
     "duration": 0.084718,
     "end_time": "2021-01-03T02:56:56.322150",
     "exception": false,
     "start_time": "2021-01-03T02:56:56.237432",
     "status": "completed"
    },
    "tags": []
   },
   "source": [
    "2-2. 特徴量の数"
   ]
  },
  {
   "cell_type": "code",
   "execution_count": 6,
   "metadata": {
    "execution": {
     "iopub.execute_input": "2021-01-03T02:56:56.459268Z",
     "iopub.status.busy": "2021-01-03T02:56:56.458603Z",
     "iopub.status.idle": "2021-01-03T02:56:56.461169Z",
     "shell.execute_reply": "2021-01-03T02:56:56.461677Z"
    },
    "papermill": {
     "duration": 0.070921,
     "end_time": "2021-01-03T02:56:56.461844",
     "exception": false,
     "start_time": "2021-01-03T02:56:56.390923",
     "status": "completed"
    },
    "tags": []
   },
   "outputs": [
    {
     "name": "stdout",
     "output_type": "stream",
     "text": [
      "11\n"
     ]
    }
   ],
   "source": [
    "print (train_df.shape[1] - 1) # 目的変数の数を減算する"
   ]
  },
  {
   "cell_type": "markdown",
   "metadata": {
    "papermill": {
     "duration": 0.056292,
     "end_time": "2021-01-03T02:56:56.575951",
     "exception": false,
     "start_time": "2021-01-03T02:56:56.519659",
     "status": "completed"
    },
    "tags": []
   },
   "source": [
    "2-3. データ型"
   ]
  },
  {
   "cell_type": "code",
   "execution_count": 7,
   "metadata": {
    "execution": {
     "iopub.execute_input": "2021-01-03T02:56:56.704181Z",
     "iopub.status.busy": "2021-01-03T02:56:56.699746Z",
     "iopub.status.idle": "2021-01-03T02:56:56.719325Z",
     "shell.execute_reply": "2021-01-03T02:56:56.720764Z"
    },
    "papermill": {
     "duration": 0.089498,
     "end_time": "2021-01-03T02:56:56.721093",
     "exception": false,
     "start_time": "2021-01-03T02:56:56.631595",
     "status": "completed"
    },
    "tags": []
   },
   "outputs": [
    {
     "name": "stdout",
     "output_type": "stream",
     "text": [
      "<class 'pandas.core.frame.DataFrame'>\n",
      "RangeIndex: 891 entries, 0 to 890\n",
      "Data columns (total 12 columns):\n",
      " #   Column       Non-Null Count  Dtype  \n",
      "---  ------       --------------  -----  \n",
      " 0   PassengerId  891 non-null    int64  \n",
      " 1   Survived     891 non-null    int64  \n",
      " 2   Pclass       891 non-null    int64  \n",
      " 3   Name         891 non-null    object \n",
      " 4   Sex          891 non-null    object \n",
      " 5   Age          714 non-null    float64\n",
      " 6   SibSp        891 non-null    int64  \n",
      " 7   Parch        891 non-null    int64  \n",
      " 8   Ticket       891 non-null    object \n",
      " 9   Fare         891 non-null    float64\n",
      " 10  Cabin        204 non-null    object \n",
      " 11  Embarked     889 non-null    object \n",
      "dtypes: float64(2), int64(5), object(5)\n",
      "memory usage: 83.7+ KB\n"
     ]
    }
   ],
   "source": [
    "train_df.info()"
   ]
  },
  {
   "cell_type": "markdown",
   "metadata": {
    "papermill": {
     "duration": 0.087116,
     "end_time": "2021-01-03T02:56:56.894655",
     "exception": false,
     "start_time": "2021-01-03T02:56:56.807539",
     "status": "completed"
    },
    "tags": []
   },
   "source": [
    "2-4. 欠損値"
   ]
  },
  {
   "cell_type": "code",
   "execution_count": 8,
   "metadata": {
    "execution": {
     "iopub.execute_input": "2021-01-03T02:56:57.075450Z",
     "iopub.status.busy": "2021-01-03T02:56:57.074571Z",
     "iopub.status.idle": "2021-01-03T02:56:57.079579Z",
     "shell.execute_reply": "2021-01-03T02:56:57.078993Z"
    },
    "papermill": {
     "duration": 0.098368,
     "end_time": "2021-01-03T02:56:57.079681",
     "exception": false,
     "start_time": "2021-01-03T02:56:56.981313",
     "status": "completed"
    },
    "tags": []
   },
   "outputs": [
    {
     "data": {
      "text/plain": [
       "PassengerId      0\n",
       "Survived         0\n",
       "Pclass           0\n",
       "Name             0\n",
       "Sex              0\n",
       "Age            177\n",
       "SibSp            0\n",
       "Parch            0\n",
       "Ticket           0\n",
       "Fare             0\n",
       "Cabin          687\n",
       "Embarked         2\n",
       "dtype: int64"
      ]
     },
     "execution_count": 8,
     "metadata": {},
     "output_type": "execute_result"
    }
   ],
   "source": [
    "train_df.isnull().sum(axis=0)"
   ]
  },
  {
   "cell_type": "markdown",
   "metadata": {
    "papermill": {
     "duration": 0.056424,
     "end_time": "2021-01-03T02:56:57.192958",
     "exception": false,
     "start_time": "2021-01-03T02:56:57.136534",
     "status": "completed"
    },
    "tags": []
   },
   "source": [
    "2-5. 要約統計量"
   ]
  },
  {
   "cell_type": "code",
   "execution_count": 9,
   "metadata": {
    "execution": {
     "iopub.execute_input": "2021-01-03T02:56:57.315983Z",
     "iopub.status.busy": "2021-01-03T02:56:57.315322Z",
     "iopub.status.idle": "2021-01-03T02:56:57.341455Z",
     "shell.execute_reply": "2021-01-03T02:56:57.342269Z"
    },
    "papermill": {
     "duration": 0.08785,
     "end_time": "2021-01-03T02:56:57.342451",
     "exception": false,
     "start_time": "2021-01-03T02:56:57.254601",
     "status": "completed"
    },
    "tags": []
   },
   "outputs": [
    {
     "data": {
      "text/html": [
       "<div>\n",
       "<style scoped>\n",
       "    .dataframe tbody tr th:only-of-type {\n",
       "        vertical-align: middle;\n",
       "    }\n",
       "\n",
       "    .dataframe tbody tr th {\n",
       "        vertical-align: top;\n",
       "    }\n",
       "\n",
       "    .dataframe thead th {\n",
       "        text-align: right;\n",
       "    }\n",
       "</style>\n",
       "<table border=\"1\" class=\"dataframe\">\n",
       "  <thead>\n",
       "    <tr style=\"text-align: right;\">\n",
       "      <th></th>\n",
       "      <th>PassengerId</th>\n",
       "      <th>Survived</th>\n",
       "      <th>Pclass</th>\n",
       "      <th>Age</th>\n",
       "      <th>SibSp</th>\n",
       "      <th>Parch</th>\n",
       "      <th>Fare</th>\n",
       "    </tr>\n",
       "  </thead>\n",
       "  <tbody>\n",
       "    <tr>\n",
       "      <th>count</th>\n",
       "      <td>891.000000</td>\n",
       "      <td>891.000000</td>\n",
       "      <td>891.000000</td>\n",
       "      <td>714.000000</td>\n",
       "      <td>891.000000</td>\n",
       "      <td>891.000000</td>\n",
       "      <td>891.000000</td>\n",
       "    </tr>\n",
       "    <tr>\n",
       "      <th>mean</th>\n",
       "      <td>446.000000</td>\n",
       "      <td>0.383838</td>\n",
       "      <td>2.308642</td>\n",
       "      <td>29.699118</td>\n",
       "      <td>0.523008</td>\n",
       "      <td>0.381594</td>\n",
       "      <td>32.204208</td>\n",
       "    </tr>\n",
       "    <tr>\n",
       "      <th>std</th>\n",
       "      <td>257.353842</td>\n",
       "      <td>0.486592</td>\n",
       "      <td>0.836071</td>\n",
       "      <td>14.526497</td>\n",
       "      <td>1.102743</td>\n",
       "      <td>0.806057</td>\n",
       "      <td>49.693429</td>\n",
       "    </tr>\n",
       "    <tr>\n",
       "      <th>min</th>\n",
       "      <td>1.000000</td>\n",
       "      <td>0.000000</td>\n",
       "      <td>1.000000</td>\n",
       "      <td>0.420000</td>\n",
       "      <td>0.000000</td>\n",
       "      <td>0.000000</td>\n",
       "      <td>0.000000</td>\n",
       "    </tr>\n",
       "    <tr>\n",
       "      <th>25%</th>\n",
       "      <td>223.500000</td>\n",
       "      <td>0.000000</td>\n",
       "      <td>2.000000</td>\n",
       "      <td>20.125000</td>\n",
       "      <td>0.000000</td>\n",
       "      <td>0.000000</td>\n",
       "      <td>7.910400</td>\n",
       "    </tr>\n",
       "    <tr>\n",
       "      <th>50%</th>\n",
       "      <td>446.000000</td>\n",
       "      <td>0.000000</td>\n",
       "      <td>3.000000</td>\n",
       "      <td>28.000000</td>\n",
       "      <td>0.000000</td>\n",
       "      <td>0.000000</td>\n",
       "      <td>14.454200</td>\n",
       "    </tr>\n",
       "    <tr>\n",
       "      <th>75%</th>\n",
       "      <td>668.500000</td>\n",
       "      <td>1.000000</td>\n",
       "      <td>3.000000</td>\n",
       "      <td>38.000000</td>\n",
       "      <td>1.000000</td>\n",
       "      <td>0.000000</td>\n",
       "      <td>31.000000</td>\n",
       "    </tr>\n",
       "    <tr>\n",
       "      <th>max</th>\n",
       "      <td>891.000000</td>\n",
       "      <td>1.000000</td>\n",
       "      <td>3.000000</td>\n",
       "      <td>80.000000</td>\n",
       "      <td>8.000000</td>\n",
       "      <td>6.000000</td>\n",
       "      <td>512.329200</td>\n",
       "    </tr>\n",
       "  </tbody>\n",
       "</table>\n",
       "</div>"
      ],
      "text/plain": [
       "       PassengerId    Survived      Pclass         Age       SibSp  \\\n",
       "count   891.000000  891.000000  891.000000  714.000000  891.000000   \n",
       "mean    446.000000    0.383838    2.308642   29.699118    0.523008   \n",
       "std     257.353842    0.486592    0.836071   14.526497    1.102743   \n",
       "min       1.000000    0.000000    1.000000    0.420000    0.000000   \n",
       "25%     223.500000    0.000000    2.000000   20.125000    0.000000   \n",
       "50%     446.000000    0.000000    3.000000   28.000000    0.000000   \n",
       "75%     668.500000    1.000000    3.000000   38.000000    1.000000   \n",
       "max     891.000000    1.000000    3.000000   80.000000    8.000000   \n",
       "\n",
       "            Parch        Fare  \n",
       "count  891.000000  891.000000  \n",
       "mean     0.381594   32.204208  \n",
       "std      0.806057   49.693429  \n",
       "min      0.000000    0.000000  \n",
       "25%      0.000000    7.910400  \n",
       "50%      0.000000   14.454200  \n",
       "75%      0.000000   31.000000  \n",
       "max      6.000000  512.329200  "
      ]
     },
     "execution_count": 9,
     "metadata": {},
     "output_type": "execute_result"
    }
   ],
   "source": [
    "train_df.describe()"
   ]
  },
  {
   "cell_type": "markdown",
   "metadata": {
    "papermill": {
     "duration": 0.088338,
     "end_time": "2021-01-03T02:56:57.519198",
     "exception": false,
     "start_time": "2021-01-03T02:56:57.430860",
     "status": "completed"
    },
    "tags": []
   },
   "source": [
    "2-6. ヒストグラム"
   ]
  },
  {
   "cell_type": "code",
   "execution_count": 10,
   "metadata": {
    "execution": {
     "iopub.execute_input": "2021-01-03T02:56:57.699342Z",
     "iopub.status.busy": "2021-01-03T02:56:57.698459Z",
     "iopub.status.idle": "2021-01-03T02:56:57.877163Z",
     "shell.execute_reply": "2021-01-03T02:56:57.876539Z"
    },
    "papermill": {
     "duration": 0.270799,
     "end_time": "2021-01-03T02:56:57.877273",
     "exception": false,
     "start_time": "2021-01-03T02:56:57.606474",
     "status": "completed"
    },
    "tags": []
   },
   "outputs": [
    {
     "data": {
      "text/plain": [
       "<matplotlib.axes._subplots.AxesSubplot at 0x7f3bdf54b410>"
      ]
     },
     "execution_count": 10,
     "metadata": {},
     "output_type": "execute_result"
    },
    {
     "data": {
      "image/png": "[encoded data removed]",
      "text/plain": [
       "<Figure size 432x288 with 1 Axes>"
      ]
     },
     "metadata": {
      "needs_background": "light"
     },
     "output_type": "display_data"
    }
   ],
   "source": [
    "# 解法1 pandasを用いる\n",
    "train_df['Age'].hist()"
   ]
  },
  {
   "cell_type": "code",
   "execution_count": 11,
   "metadata": {
    "execution": {
     "iopub.execute_input": "2021-01-03T02:56:58.067614Z",
     "iopub.status.busy": "2021-01-03T02:56:58.066163Z",
     "iopub.status.idle": "2021-01-03T02:56:58.188964Z",
     "shell.execute_reply": "2021-01-03T02:56:58.188530Z"
    },
    "papermill": {
     "duration": 0.252642,
     "end_time": "2021-01-03T02:56:58.189048",
     "exception": false,
     "start_time": "2021-01-03T02:56:57.936406",
     "status": "completed"
    },
    "tags": []
   },
   "outputs": [
    {
     "data": {
      "text/plain": [
       "<matplotlib.axes._subplots.AxesSubplot at 0x7f3bc8a3e190>"
      ]
     },
     "execution_count": 11,
     "metadata": {},
     "output_type": "execute_result"
    },
    {
     "data": {
      "image/png": "[encoded data removed]",
      "text/plain": [
       "<Figure size 432x288 with 1 Axes>"
      ]
     },
     "metadata": {
      "needs_background": "light"
     },
     "output_type": "display_data"
    }
   ],
   "source": [
    "# 解法2 seabornを用いる\n",
    "sns.distplot(train_df['Age'])"
   ]
  },
  {
   "cell_type": "markdown",
   "metadata": {
    "papermill": {
     "duration": 0.042245,
     "end_time": "2021-01-03T02:56:58.276636",
     "exception": false,
     "start_time": "2021-01-03T02:56:58.234391",
     "status": "completed"
    },
    "tags": []
   },
   "source": [
    "2-7. 集計"
   ]
  },
  {
   "cell_type": "code",
   "execution_count": 12,
   "metadata": {
    "execution": {
     "iopub.execute_input": "2021-01-03T02:56:58.398955Z",
     "iopub.status.busy": "2021-01-03T02:56:58.398125Z",
     "iopub.status.idle": "2021-01-03T02:56:58.402649Z",
     "shell.execute_reply": "2021-01-03T02:56:58.402053Z"
    },
    "papermill": {
     "duration": 0.074345,
     "end_time": "2021-01-03T02:56:58.402751",
     "exception": false,
     "start_time": "2021-01-03T02:56:58.328406",
     "status": "completed"
    },
    "tags": []
   },
   "outputs": [
    {
     "data": {
      "text/plain": [
       "Sex\n",
       "female    0.742038\n",
       "male      0.188908\n",
       "Name: Survived, dtype: float64"
      ]
     },
     "execution_count": 12,
     "metadata": {},
     "output_type": "execute_result"
    }
   ],
   "source": [
    "# 解法1 GROUP BYを利用\n",
    "grouped = train_df.groupby('Sex')\n",
    "grouped['Survived'].mean()"
   ]
  },
  {
   "cell_type": "code",
   "execution_count": 13,
   "metadata": {
    "execution": {
     "iopub.execute_input": "2021-01-03T02:56:58.534343Z",
     "iopub.status.busy": "2021-01-03T02:56:58.532337Z",
     "iopub.status.idle": "2021-01-03T02:56:58.565430Z",
     "shell.execute_reply": "2021-01-03T02:56:58.566004Z"
    },
    "papermill": {
     "duration": 0.103152,
     "end_time": "2021-01-03T02:56:58.566150",
     "exception": false,
     "start_time": "2021-01-03T02:56:58.462998",
     "status": "completed"
    },
    "tags": []
   },
   "outputs": [
    {
     "data": {
      "text/html": [
       "<div>\n",
       "<style scoped>\n",
       "    .dataframe tbody tr th:only-of-type {\n",
       "        vertical-align: middle;\n",
       "    }\n",
       "\n",
       "    .dataframe tbody tr th {\n",
       "        vertical-align: top;\n",
       "    }\n",
       "\n",
       "    .dataframe thead th {\n",
       "        text-align: right;\n",
       "    }\n",
       "</style>\n",
       "<table border=\"1\" class=\"dataframe\">\n",
       "  <thead>\n",
       "    <tr style=\"text-align: right;\">\n",
       "      <th></th>\n",
       "      <th>Survived</th>\n",
       "    </tr>\n",
       "    <tr>\n",
       "      <th>Sex</th>\n",
       "      <th></th>\n",
       "    </tr>\n",
       "  </thead>\n",
       "  <tbody>\n",
       "    <tr>\n",
       "      <th>female</th>\n",
       "      <td>0.742038</td>\n",
       "    </tr>\n",
       "    <tr>\n",
       "      <th>male</th>\n",
       "      <td>0.188908</td>\n",
       "    </tr>\n",
       "  </tbody>\n",
       "</table>\n",
       "</div>"
      ],
      "text/plain": [
       "        Survived\n",
       "Sex             \n",
       "female  0.742038\n",
       "male    0.188908"
      ]
     },
     "execution_count": 13,
     "metadata": {},
     "output_type": "execute_result"
    }
   ],
   "source": [
    "# 解法2 pivot_tableを利用\n",
    "pd.pivot_table(train_df, index='Sex', values='Survived')"
   ]
  },
  {
   "cell_type": "code",
   "execution_count": 14,
   "metadata": {
    "execution": {
     "iopub.execute_input": "2021-01-03T02:56:58.692762Z",
     "iopub.status.busy": "2021-01-03T02:56:58.692007Z",
     "iopub.status.idle": "2021-01-03T02:56:58.940472Z",
     "shell.execute_reply": "2021-01-03T02:56:58.940947Z"
    },
    "papermill": {
     "duration": 0.314573,
     "end_time": "2021-01-03T02:56:58.941085",
     "exception": false,
     "start_time": "2021-01-03T02:56:58.626512",
     "status": "completed"
    },
    "tags": []
   },
   "outputs": [
    {
     "name": "stderr",
     "output_type": "stream",
     "text": [
      "/opt/conda/lib/python3.7/site-packages/seaborn/categorical.py:3669: UserWarning: The `factorplot` function has been renamed to `catplot`. The original name will be removed in a future release. Please update your code. Note that the default `kind` in `factorplot` (`'point'`) has changed `'strip'` in `catplot`.\n",
      "  warnings.warn(msg)\n"
     ]
    },
    {
     "data": {
      "text/plain": [
       "<seaborn.axisgrid.FacetGrid at 0x7f3bce934910>"
      ]
     },
     "execution_count": 14,
     "metadata": {},
     "output_type": "execute_result"
    },
    {
     "data": {
      "image/png": "[encoded data removed]",
      "text/plain": [
       "<Figure size 360x360 with 1 Axes>"
      ]
     },
     "metadata": {
      "needs_background": "light"
     },
     "output_type": "display_data"
    }
   ],
   "source": [
    "# 解法3 棒グラフを利用\n",
    "sns.factorplot(x=\"Sex\", y=\"Survived\",data=train_df, kind=\"bar\")"
   ]
  },
  {
   "cell_type": "markdown",
   "metadata": {
    "papermill": {
     "duration": 0.06258,
     "end_time": "2021-01-03T02:56:59.066089",
     "exception": false,
     "start_time": "2021-01-03T02:56:59.003509",
     "status": "completed"
    },
    "tags": []
   },
   "source": [
    "2-8. クロス集計"
   ]
  },
  {
   "cell_type": "code",
   "execution_count": 15,
   "metadata": {
    "execution": {
     "iopub.execute_input": "2021-01-03T02:56:59.200143Z",
     "iopub.status.busy": "2021-01-03T02:56:59.199269Z",
     "iopub.status.idle": "2021-01-03T02:56:59.223274Z",
     "shell.execute_reply": "2021-01-03T02:56:59.223746Z"
    },
    "papermill": {
     "duration": 0.095016,
     "end_time": "2021-01-03T02:56:59.223921",
     "exception": false,
     "start_time": "2021-01-03T02:56:59.128905",
     "status": "completed"
    },
    "tags": []
   },
   "outputs": [
    {
     "data": {
      "text/html": [
       "<div>\n",
       "<style scoped>\n",
       "    .dataframe tbody tr th:only-of-type {\n",
       "        vertical-align: middle;\n",
       "    }\n",
       "\n",
       "    .dataframe tbody tr th {\n",
       "        vertical-align: top;\n",
       "    }\n",
       "\n",
       "    .dataframe thead th {\n",
       "        text-align: right;\n",
       "    }\n",
       "</style>\n",
       "<table border=\"1\" class=\"dataframe\">\n",
       "  <thead>\n",
       "    <tr style=\"text-align: right;\">\n",
       "      <th>Survived</th>\n",
       "      <th>0</th>\n",
       "      <th>1</th>\n",
       "    </tr>\n",
       "    <tr>\n",
       "      <th>Sex</th>\n",
       "      <th></th>\n",
       "      <th></th>\n",
       "    </tr>\n",
       "  </thead>\n",
       "  <tbody>\n",
       "    <tr>\n",
       "      <th>female</th>\n",
       "      <td>81</td>\n",
       "      <td>233</td>\n",
       "    </tr>\n",
       "    <tr>\n",
       "      <th>male</th>\n",
       "      <td>468</td>\n",
       "      <td>109</td>\n",
       "    </tr>\n",
       "  </tbody>\n",
       "</table>\n",
       "</div>"
      ],
      "text/plain": [
       "Survived    0    1\n",
       "Sex               \n",
       "female     81  233\n",
       "male      468  109"
      ]
     },
     "execution_count": 15,
     "metadata": {},
     "output_type": "execute_result"
    }
   ],
   "source": [
    "pd.crosstab(train_df['Sex'], train_df['Survived'])"
   ]
  },
  {
   "cell_type": "markdown",
   "metadata": {
    "papermill": {
     "duration": 0.077765,
     "end_time": "2021-01-03T02:56:59.380428",
     "exception": false,
     "start_time": "2021-01-03T02:56:59.302663",
     "status": "completed"
    },
    "tags": []
   },
   "source": [
    "2-9. 相関係数"
   ]
  },
  {
   "cell_type": "code",
   "execution_count": 16,
   "metadata": {
    "execution": {
     "iopub.execute_input": "2021-01-03T02:56:59.537058Z",
     "iopub.status.busy": "2021-01-03T02:56:59.531672Z",
     "iopub.status.idle": "2021-01-03T02:56:59.786166Z",
     "shell.execute_reply": "2021-01-03T02:56:59.785479Z"
    },
    "papermill": {
     "duration": 0.338084,
     "end_time": "2021-01-03T02:56:59.786323",
     "exception": false,
     "start_time": "2021-01-03T02:56:59.448239",
     "status": "completed"
    },
    "tags": []
   },
   "outputs": [
    {
     "name": "stdout",
     "output_type": "stream",
     "text": [
      "             PassengerId  Survived    Pclass       Age     SibSp     Parch  \\\n",
      "PassengerId     1.000000 -0.005007 -0.035144  0.036847 -0.057527 -0.001652   \n",
      "Survived       -0.005007  1.000000 -0.338481 -0.077221 -0.035322  0.081629   \n",
      "Pclass         -0.035144 -0.338481  1.000000 -0.369226  0.083081  0.018443   \n",
      "Age             0.036847 -0.077221 -0.369226  1.000000 -0.308247 -0.189119   \n",
      "SibSp          -0.057527 -0.035322  0.083081 -0.308247  1.000000  0.414838   \n",
      "Parch          -0.001652  0.081629  0.018443 -0.189119  0.414838  1.000000   \n",
      "Fare            0.012658  0.257307 -0.549500  0.096067  0.159651  0.216225   \n",
      "\n",
      "                 Fare  \n",
      "PassengerId  0.012658  \n",
      "Survived     0.257307  \n",
      "Pclass      -0.549500  \n",
      "Age          0.096067  \n",
      "SibSp        0.159651  \n",
      "Parch        0.216225  \n",
      "Fare         1.000000  \n"
     ]
    },
    {
     "data": {
      "text/plain": [
       "<matplotlib.axes._subplots.AxesSubplot at 0x7f3bc6850e50>"
      ]
     },
     "execution_count": 16,
     "metadata": {},
     "output_type": "execute_result"
    },
    {
     "data": {
      "image/png": "[encoded data removed]",
      "text/plain": [
       "<Figure size 432x288 with 2 Axes>"
      ]
     },
     "metadata": {
      "needs_background": "light"
     },
     "output_type": "display_data"
    }
   ],
   "source": [
    "corr = train_df.corr()\n",
    "print(corr)\n",
    "sns.heatmap(corr)"
   ]
  },
  {
   "cell_type": "markdown",
   "metadata": {
    "papermill": {
     "duration": 0.065142,
     "end_time": "2021-01-03T02:56:59.915973",
     "exception": false,
     "start_time": "2021-01-03T02:56:59.850831",
     "status": "completed"
    },
    "tags": []
   },
   "source": [
    "3-1. ベースラインと精度評価"
   ]
  },
  {
   "cell_type": "code",
   "execution_count": 17,
   "metadata": {
    "execution": {
     "iopub.execute_input": "2021-01-03T02:57:00.055411Z",
     "iopub.status.busy": "2021-01-03T02:57:00.054964Z",
     "iopub.status.idle": "2021-01-03T02:57:00.184642Z",
     "shell.execute_reply": "2021-01-03T02:57:00.184021Z"
    },
    "papermill": {
     "duration": 0.203661,
     "end_time": "2021-01-03T02:57:00.184748",
     "exception": false,
     "start_time": "2021-01-03T02:56:59.981087",
     "status": "completed"
    },
    "tags": []
   },
   "outputs": [
    {
     "name": "stdout",
     "output_type": "stream",
     "text": [
      "cv-score-mean 0.6947837549431924\n"
     ]
    }
   ],
   "source": [
    "\n",
    "numeric_columns = ['Pclass','Age','SibSp','Parch','Fare']\n",
    "train_filled_df = train_df[numeric_columns].fillna(train_df.median())\n",
    "lr = LogisticRegression()\n",
    "cv_results = cross_validate(lr, train_filled_df,train_df['Survived'], scoring='accuracy')\n",
    "print ('cv-score-mean',cv_results['test_score'].mean())"
   ]
  },
  {
   "cell_type": "markdown",
   "metadata": {
    "papermill": {
     "duration": 0.065794,
     "end_time": "2021-01-03T02:57:00.317317",
     "exception": false,
     "start_time": "2021-01-03T02:57:00.251523",
     "status": "completed"
    },
    "tags": []
   },
   "source": [
    "3-2. カテゴリ変数"
   ]
  },
  {
   "cell_type": "code",
   "execution_count": 18,
   "metadata": {
    "execution": {
     "iopub.execute_input": "2021-01-03T02:57:00.460453Z",
     "iopub.status.busy": "2021-01-03T02:57:00.459547Z",
     "iopub.status.idle": "2021-01-03T02:57:00.464722Z",
     "shell.execute_reply": "2021-01-03T02:57:00.463538Z"
    },
    "papermill": {
     "duration": 0.081662,
     "end_time": "2021-01-03T02:57:00.464866",
     "exception": false,
     "start_time": "2021-01-03T02:57:00.383204",
     "status": "completed"
    },
    "tags": []
   },
   "outputs": [
    {
     "name": "stdout",
     "output_type": "stream",
     "text": [
      "<class 'pandas.core.frame.DataFrame'>\n",
      "RangeIndex: 891 entries, 0 to 890\n",
      "Data columns (total 12 columns):\n",
      " #   Column       Non-Null Count  Dtype  \n",
      "---  ------       --------------  -----  \n",
      " 0   PassengerId  891 non-null    int64  \n",
      " 1   Survived     891 non-null    int64  \n",
      " 2   Pclass       891 non-null    int64  \n",
      " 3   Name         891 non-null    object \n",
      " 4   Sex          891 non-null    object \n",
      " 5   Age          714 non-null    float64\n",
      " 6   SibSp        891 non-null    int64  \n",
      " 7   Parch        891 non-null    int64  \n",
      " 8   Ticket       891 non-null    object \n",
      " 9   Fare         891 non-null    float64\n",
      " 10  Cabin        204 non-null    object \n",
      " 11  Embarked     889 non-null    object \n",
      "dtypes: float64(2), int64(5), object(5)\n",
      "memory usage: 83.7+ KB\n"
     ]
    }
   ],
   "source": [
    "train_df.info()"
   ]
  },
  {
   "cell_type": "markdown",
   "metadata": {
    "papermill": {
     "duration": 0.065404,
     "end_time": "2021-01-03T02:57:00.597880",
     "exception": false,
     "start_time": "2021-01-03T02:57:00.532476",
     "status": "completed"
    },
    "tags": []
   },
   "source": [
    "3-3. ユニークな要素の個数"
   ]
  },
  {
   "cell_type": "code",
   "execution_count": 19,
   "metadata": {
    "execution": {
     "iopub.execute_input": "2021-01-03T02:57:00.734461Z",
     "iopub.status.busy": "2021-01-03T02:57:00.733608Z",
     "iopub.status.idle": "2021-01-03T02:57:00.741976Z",
     "shell.execute_reply": "2021-01-03T02:57:00.741456Z"
    },
    "papermill": {
     "duration": 0.07862,
     "end_time": "2021-01-03T02:57:00.742084",
     "exception": false,
     "start_time": "2021-01-03T02:57:00.663464",
     "status": "completed"
    },
    "tags": []
   },
   "outputs": [
    {
     "data": {
      "text/plain": [
       "PassengerId    891\n",
       "Survived         2\n",
       "Pclass           3\n",
       "Name           891\n",
       "Sex              2\n",
       "Age             88\n",
       "SibSp            7\n",
       "Parch            7\n",
       "Ticket         681\n",
       "Fare           248\n",
       "Cabin          147\n",
       "Embarked         3\n",
       "dtype: int64"
      ]
     },
     "execution_count": 19,
     "metadata": {},
     "output_type": "execute_result"
    }
   ],
   "source": [
    "train_df.nunique()"
   ]
  },
  {
   "cell_type": "markdown",
   "metadata": {
    "papermill": {
     "duration": 0.065109,
     "end_time": "2021-01-03T02:57:00.872852",
     "exception": false,
     "start_time": "2021-01-03T02:57:00.807743",
     "status": "completed"
    },
    "tags": []
   },
   "source": [
    "3-4. One-Hotエンコーディング"
   ]
  },
  {
   "cell_type": "code",
   "execution_count": 20,
   "metadata": {
    "execution": {
     "iopub.execute_input": "2021-01-03T02:57:01.022229Z",
     "iopub.status.busy": "2021-01-03T02:57:01.019567Z",
     "iopub.status.idle": "2021-01-03T02:57:01.040260Z",
     "shell.execute_reply": "2021-01-03T02:57:01.039537Z"
    },
    "papermill": {
     "duration": 0.100809,
     "end_time": "2021-01-03T02:57:01.040387",
     "exception": false,
     "start_time": "2021-01-03T02:57:00.939578",
     "status": "completed"
    },
    "tags": []
   },
   "outputs": [
    {
     "data": {
      "text/html": [
       "<div>\n",
       "<style scoped>\n",
       "    .dataframe tbody tr th:only-of-type {\n",
       "        vertical-align: middle;\n",
       "    }\n",
       "\n",
       "    .dataframe tbody tr th {\n",
       "        vertical-align: top;\n",
       "    }\n",
       "\n",
       "    .dataframe thead th {\n",
       "        text-align: right;\n",
       "    }\n",
       "</style>\n",
       "<table border=\"1\" class=\"dataframe\">\n",
       "  <thead>\n",
       "    <tr style=\"text-align: right;\">\n",
       "      <th></th>\n",
       "      <th>Sex_female</th>\n",
       "      <th>Sex_male</th>\n",
       "      <th>Embarked_C</th>\n",
       "      <th>Embarked_Q</th>\n",
       "      <th>Embarked_S</th>\n",
       "    </tr>\n",
       "  </thead>\n",
       "  <tbody>\n",
       "    <tr>\n",
       "      <th>0</th>\n",
       "      <td>0</td>\n",
       "      <td>1</td>\n",
       "      <td>0</td>\n",
       "      <td>0</td>\n",
       "      <td>1</td>\n",
       "    </tr>\n",
       "    <tr>\n",
       "      <th>1</th>\n",
       "      <td>1</td>\n",
       "      <td>0</td>\n",
       "      <td>1</td>\n",
       "      <td>0</td>\n",
       "      <td>0</td>\n",
       "    </tr>\n",
       "    <tr>\n",
       "      <th>2</th>\n",
       "      <td>1</td>\n",
       "      <td>0</td>\n",
       "      <td>0</td>\n",
       "      <td>0</td>\n",
       "      <td>1</td>\n",
       "    </tr>\n",
       "    <tr>\n",
       "      <th>3</th>\n",
       "      <td>1</td>\n",
       "      <td>0</td>\n",
       "      <td>0</td>\n",
       "      <td>0</td>\n",
       "      <td>1</td>\n",
       "    </tr>\n",
       "    <tr>\n",
       "      <th>4</th>\n",
       "      <td>0</td>\n",
       "      <td>1</td>\n",
       "      <td>0</td>\n",
       "      <td>0</td>\n",
       "      <td>1</td>\n",
       "    </tr>\n",
       "    <tr>\n",
       "      <th>...</th>\n",
       "      <td>...</td>\n",
       "      <td>...</td>\n",
       "      <td>...</td>\n",
       "      <td>...</td>\n",
       "      <td>...</td>\n",
       "    </tr>\n",
       "    <tr>\n",
       "      <th>886</th>\n",
       "      <td>0</td>\n",
       "      <td>1</td>\n",
       "      <td>0</td>\n",
       "      <td>0</td>\n",
       "      <td>1</td>\n",
       "    </tr>\n",
       "    <tr>\n",
       "      <th>887</th>\n",
       "      <td>1</td>\n",
       "      <td>0</td>\n",
       "      <td>0</td>\n",
       "      <td>0</td>\n",
       "      <td>1</td>\n",
       "    </tr>\n",
       "    <tr>\n",
       "      <th>888</th>\n",
       "      <td>1</td>\n",
       "      <td>0</td>\n",
       "      <td>0</td>\n",
       "      <td>0</td>\n",
       "      <td>1</td>\n",
       "    </tr>\n",
       "    <tr>\n",
       "      <th>889</th>\n",
       "      <td>0</td>\n",
       "      <td>1</td>\n",
       "      <td>1</td>\n",
       "      <td>0</td>\n",
       "      <td>0</td>\n",
       "    </tr>\n",
       "    <tr>\n",
       "      <th>890</th>\n",
       "      <td>0</td>\n",
       "      <td>1</td>\n",
       "      <td>0</td>\n",
       "      <td>1</td>\n",
       "      <td>0</td>\n",
       "    </tr>\n",
       "  </tbody>\n",
       "</table>\n",
       "<p>891 rows × 5 columns</p>\n",
       "</div>"
      ],
      "text/plain": [
       "     Sex_female  Sex_male  Embarked_C  Embarked_Q  Embarked_S\n",
       "0             0         1           0           0           1\n",
       "1             1         0           1           0           0\n",
       "2             1         0           0           0           1\n",
       "3             1         0           0           0           1\n",
       "4             0         1           0           0           1\n",
       "..          ...       ...         ...         ...         ...\n",
       "886           0         1           0           0           1\n",
       "887           1         0           0           0           1\n",
       "888           1         0           0           0           1\n",
       "889           0         1           1           0           0\n",
       "890           0         1           0           1           0\n",
       "\n",
       "[891 rows x 5 columns]"
      ]
     },
     "execution_count": 20,
     "metadata": {},
     "output_type": "execute_result"
    }
   ],
   "source": [
    "categorical_columns = ['Sex', 'Embarked']\n",
    "pd.get_dummies(train_df[categorical_columns])"
   ]
  },
  {
   "cell_type": "code",
   "execution_count": 21,
   "metadata": {
    "execution": {
     "iopub.execute_input": "2021-01-03T02:57:01.248272Z",
     "iopub.status.busy": "2021-01-03T02:57:01.247455Z",
     "iopub.status.idle": "2021-01-03T02:57:01.275653Z",
     "shell.execute_reply": "2021-01-03T02:57:01.276332Z"
    },
    "papermill": {
     "duration": 0.133905,
     "end_time": "2021-01-03T02:57:01.276478",
     "exception": false,
     "start_time": "2021-01-03T02:57:01.142573",
     "status": "completed"
    },
    "tags": []
   },
   "outputs": [
    {
     "data": {
      "text/html": [
       "<div>\n",
       "<style scoped>\n",
       "    .dataframe tbody tr th:only-of-type {\n",
       "        vertical-align: middle;\n",
       "    }\n",
       "\n",
       "    .dataframe tbody tr th {\n",
       "        vertical-align: top;\n",
       "    }\n",
       "\n",
       "    .dataframe thead th {\n",
       "        text-align: right;\n",
       "    }\n",
       "</style>\n",
       "<table border=\"1\" class=\"dataframe\">\n",
       "  <thead>\n",
       "    <tr style=\"text-align: right;\">\n",
       "      <th></th>\n",
       "      <th>Pclass</th>\n",
       "      <th>Age</th>\n",
       "      <th>SibSp</th>\n",
       "      <th>Parch</th>\n",
       "      <th>Fare</th>\n",
       "      <th>Sex_female</th>\n",
       "      <th>Sex_male</th>\n",
       "      <th>Embarked_C</th>\n",
       "      <th>Embarked_Q</th>\n",
       "      <th>Embarked_S</th>\n",
       "    </tr>\n",
       "  </thead>\n",
       "  <tbody>\n",
       "    <tr>\n",
       "      <th>0</th>\n",
       "      <td>3</td>\n",
       "      <td>22.0</td>\n",
       "      <td>1</td>\n",
       "      <td>0</td>\n",
       "      <td>7.2500</td>\n",
       "      <td>0</td>\n",
       "      <td>1</td>\n",
       "      <td>0</td>\n",
       "      <td>0</td>\n",
       "      <td>1</td>\n",
       "    </tr>\n",
       "    <tr>\n",
       "      <th>1</th>\n",
       "      <td>1</td>\n",
       "      <td>38.0</td>\n",
       "      <td>1</td>\n",
       "      <td>0</td>\n",
       "      <td>71.2833</td>\n",
       "      <td>1</td>\n",
       "      <td>0</td>\n",
       "      <td>1</td>\n",
       "      <td>0</td>\n",
       "      <td>0</td>\n",
       "    </tr>\n",
       "    <tr>\n",
       "      <th>2</th>\n",
       "      <td>3</td>\n",
       "      <td>26.0</td>\n",
       "      <td>0</td>\n",
       "      <td>0</td>\n",
       "      <td>7.9250</td>\n",
       "      <td>1</td>\n",
       "      <td>0</td>\n",
       "      <td>0</td>\n",
       "      <td>0</td>\n",
       "      <td>1</td>\n",
       "    </tr>\n",
       "    <tr>\n",
       "      <th>3</th>\n",
       "      <td>1</td>\n",
       "      <td>35.0</td>\n",
       "      <td>1</td>\n",
       "      <td>0</td>\n",
       "      <td>53.1000</td>\n",
       "      <td>1</td>\n",
       "      <td>0</td>\n",
       "      <td>0</td>\n",
       "      <td>0</td>\n",
       "      <td>1</td>\n",
       "    </tr>\n",
       "    <tr>\n",
       "      <th>4</th>\n",
       "      <td>3</td>\n",
       "      <td>35.0</td>\n",
       "      <td>0</td>\n",
       "      <td>0</td>\n",
       "      <td>8.0500</td>\n",
       "      <td>0</td>\n",
       "      <td>1</td>\n",
       "      <td>0</td>\n",
       "      <td>0</td>\n",
       "      <td>1</td>\n",
       "    </tr>\n",
       "    <tr>\n",
       "      <th>...</th>\n",
       "      <td>...</td>\n",
       "      <td>...</td>\n",
       "      <td>...</td>\n",
       "      <td>...</td>\n",
       "      <td>...</td>\n",
       "      <td>...</td>\n",
       "      <td>...</td>\n",
       "      <td>...</td>\n",
       "      <td>...</td>\n",
       "      <td>...</td>\n",
       "    </tr>\n",
       "    <tr>\n",
       "      <th>886</th>\n",
       "      <td>2</td>\n",
       "      <td>27.0</td>\n",
       "      <td>0</td>\n",
       "      <td>0</td>\n",
       "      <td>13.0000</td>\n",
       "      <td>0</td>\n",
       "      <td>1</td>\n",
       "      <td>0</td>\n",
       "      <td>0</td>\n",
       "      <td>1</td>\n",
       "    </tr>\n",
       "    <tr>\n",
       "      <th>887</th>\n",
       "      <td>1</td>\n",
       "      <td>19.0</td>\n",
       "      <td>0</td>\n",
       "      <td>0</td>\n",
       "      <td>30.0000</td>\n",
       "      <td>1</td>\n",
       "      <td>0</td>\n",
       "      <td>0</td>\n",
       "      <td>0</td>\n",
       "      <td>1</td>\n",
       "    </tr>\n",
       "    <tr>\n",
       "      <th>888</th>\n",
       "      <td>3</td>\n",
       "      <td>28.0</td>\n",
       "      <td>1</td>\n",
       "      <td>2</td>\n",
       "      <td>23.4500</td>\n",
       "      <td>1</td>\n",
       "      <td>0</td>\n",
       "      <td>0</td>\n",
       "      <td>0</td>\n",
       "      <td>1</td>\n",
       "    </tr>\n",
       "    <tr>\n",
       "      <th>889</th>\n",
       "      <td>1</td>\n",
       "      <td>26.0</td>\n",
       "      <td>0</td>\n",
       "      <td>0</td>\n",
       "      <td>30.0000</td>\n",
       "      <td>0</td>\n",
       "      <td>1</td>\n",
       "      <td>1</td>\n",
       "      <td>0</td>\n",
       "      <td>0</td>\n",
       "    </tr>\n",
       "    <tr>\n",
       "      <th>890</th>\n",
       "      <td>3</td>\n",
       "      <td>32.0</td>\n",
       "      <td>0</td>\n",
       "      <td>0</td>\n",
       "      <td>7.7500</td>\n",
       "      <td>0</td>\n",
       "      <td>1</td>\n",
       "      <td>0</td>\n",
       "      <td>1</td>\n",
       "      <td>0</td>\n",
       "    </tr>\n",
       "  </tbody>\n",
       "</table>\n",
       "<p>891 rows × 10 columns</p>\n",
       "</div>"
      ],
      "text/plain": [
       "     Pclass   Age  SibSp  Parch     Fare  Sex_female  Sex_male  Embarked_C  \\\n",
       "0         3  22.0      1      0   7.2500           0         1           0   \n",
       "1         1  38.0      1      0  71.2833           1         0           1   \n",
       "2         3  26.0      0      0   7.9250           1         0           0   \n",
       "3         1  35.0      1      0  53.1000           1         0           0   \n",
       "4         3  35.0      0      0   8.0500           0         1           0   \n",
       "..      ...   ...    ...    ...      ...         ...       ...         ...   \n",
       "886       2  27.0      0      0  13.0000           0         1           0   \n",
       "887       1  19.0      0      0  30.0000           1         0           0   \n",
       "888       3  28.0      1      2  23.4500           1         0           0   \n",
       "889       1  26.0      0      0  30.0000           0         1           1   \n",
       "890       3  32.0      0      0   7.7500           0         1           0   \n",
       "\n",
       "     Embarked_Q  Embarked_S  \n",
       "0             0           1  \n",
       "1             0           0  \n",
       "2             0           1  \n",
       "3             0           1  \n",
       "4             0           1  \n",
       "..          ...         ...  \n",
       "886           0           1  \n",
       "887           0           1  \n",
       "888           0           1  \n",
       "889           0           0  \n",
       "890           1           0  \n",
       "\n",
       "[891 rows x 10 columns]"
      ]
     },
     "execution_count": 21,
     "metadata": {},
     "output_type": "execute_result"
    }
   ],
   "source": [
    "categorical_df = pd.get_dummies(train_df[categorical_columns])\n",
    "train_filled_fe_df = pd.concat([train_filled_df, categorical_df], axis=1)\n",
    "train_filled_fe_df"
   ]
  },
  {
   "cell_type": "code",
   "execution_count": 22,
   "metadata": {
    "execution": {
     "iopub.execute_input": "2021-01-03T02:57:01.487570Z",
     "iopub.status.busy": "2021-01-03T02:57:01.486543Z",
     "iopub.status.idle": "2021-01-03T02:57:01.676521Z",
     "shell.execute_reply": "2021-01-03T02:57:01.675889Z"
    },
    "papermill": {
     "duration": 0.296777,
     "end_time": "2021-01-03T02:57:01.676633",
     "exception": false,
     "start_time": "2021-01-03T02:57:01.379856",
     "status": "completed"
    },
    "tags": []
   },
   "outputs": [
    {
     "name": "stdout",
     "output_type": "stream",
     "text": [
      "cv-score-mean 0.7878915322327538\n"
     ]
    },
    {
     "name": "stderr",
     "output_type": "stream",
     "text": [
      "/opt/conda/lib/python3.7/site-packages/sklearn/linear_model/_logistic.py:764: ConvergenceWarning: lbfgs failed to converge (status=1):\n",
      "STOP: TOTAL NO. of ITERATIONS REACHED LIMIT.\n",
      "\n",
      "Increase the number of iterations (max_iter) or scale the data as shown in:\n",
      "    https://scikit-learn.org/stable/modules/preprocessing.html\n",
      "Please also refer to the documentation for alternative solver options:\n",
      "    https://scikit-learn.org/stable/modules/linear_model.html#logistic-regression\n",
      "  extra_warning_msg=_LOGISTIC_SOLVER_CONVERGENCE_MSG)\n",
      "/opt/conda/lib/python3.7/site-packages/sklearn/linear_model/_logistic.py:764: ConvergenceWarning: lbfgs failed to converge (status=1):\n",
      "STOP: TOTAL NO. of ITERATIONS REACHED LIMIT.\n",
      "\n",
      "Increase the number of iterations (max_iter) or scale the data as shown in:\n",
      "    https://scikit-learn.org/stable/modules/preprocessing.html\n",
      "Please also refer to the documentation for alternative solver options:\n",
      "    https://scikit-learn.org/stable/modules/linear_model.html#logistic-regression\n",
      "  extra_warning_msg=_LOGISTIC_SOLVER_CONVERGENCE_MSG)\n",
      "/opt/conda/lib/python3.7/site-packages/sklearn/linear_model/_logistic.py:764: ConvergenceWarning: lbfgs failed to converge (status=1):\n",
      "STOP: TOTAL NO. of ITERATIONS REACHED LIMIT.\n",
      "\n",
      "Increase the number of iterations (max_iter) or scale the data as shown in:\n",
      "    https://scikit-learn.org/stable/modules/preprocessing.html\n",
      "Please also refer to the documentation for alternative solver options:\n",
      "    https://scikit-learn.org/stable/modules/linear_model.html#logistic-regression\n",
      "  extra_warning_msg=_LOGISTIC_SOLVER_CONVERGENCE_MSG)\n",
      "/opt/conda/lib/python3.7/site-packages/sklearn/linear_model/_logistic.py:764: ConvergenceWarning: lbfgs failed to converge (status=1):\n",
      "STOP: TOTAL NO. of ITERATIONS REACHED LIMIT.\n",
      "\n",
      "Increase the number of iterations (max_iter) or scale the data as shown in:\n",
      "    https://scikit-learn.org/stable/modules/preprocessing.html\n",
      "Please also refer to the documentation for alternative solver options:\n",
      "    https://scikit-learn.org/stable/modules/linear_model.html#logistic-regression\n",
      "  extra_warning_msg=_LOGISTIC_SOLVER_CONVERGENCE_MSG)\n",
      "/opt/conda/lib/python3.7/site-packages/sklearn/linear_model/_logistic.py:764: ConvergenceWarning: lbfgs failed to converge (status=1):\n",
      "STOP: TOTAL NO. of ITERATIONS REACHED LIMIT.\n",
      "\n",
      "Increase the number of iterations (max_iter) or scale the data as shown in:\n",
      "    https://scikit-learn.org/stable/modules/preprocessing.html\n",
      "Please also refer to the documentation for alternative solver options:\n",
      "    https://scikit-learn.org/stable/modules/linear_model.html#logistic-regression\n",
      "  extra_warning_msg=_LOGISTIC_SOLVER_CONVERGENCE_MSG)\n"
     ]
    }
   ],
   "source": [
    "lr = LogisticRegression()\n",
    "cv_results = cross_validate(lr, train_filled_fe_df,train_df['Survived'], scoring='accuracy')\n",
    "print ('cv-score-mean',cv_results['test_score'].mean())"
   ]
  },
  {
   "cell_type": "markdown",
   "metadata": {
    "papermill": {
     "duration": 0.067769,
     "end_time": "2021-01-03T02:57:01.812767",
     "exception": false,
     "start_time": "2021-01-03T02:57:01.744998",
     "status": "completed"
    },
    "tags": []
   },
   "source": [
    "3-5. ダミーコーディング"
   ]
  },
  {
   "cell_type": "code",
   "execution_count": 23,
   "metadata": {
    "execution": {
     "iopub.execute_input": "2021-01-03T02:57:01.970597Z",
     "iopub.status.busy": "2021-01-03T02:57:01.958241Z",
     "iopub.status.idle": "2021-01-03T02:57:01.975464Z",
     "shell.execute_reply": "2021-01-03T02:57:01.974870Z"
    },
    "papermill": {
     "duration": 0.094327,
     "end_time": "2021-01-03T02:57:01.975564",
     "exception": false,
     "start_time": "2021-01-03T02:57:01.881237",
     "status": "completed"
    },
    "tags": []
   },
   "outputs": [
    {
     "data": {
      "text/html": [
       "<div>\n",
       "<style scoped>\n",
       "    .dataframe tbody tr th:only-of-type {\n",
       "        vertical-align: middle;\n",
       "    }\n",
       "\n",
       "    .dataframe tbody tr th {\n",
       "        vertical-align: top;\n",
       "    }\n",
       "\n",
       "    .dataframe thead th {\n",
       "        text-align: right;\n",
       "    }\n",
       "</style>\n",
       "<table border=\"1\" class=\"dataframe\">\n",
       "  <thead>\n",
       "    <tr style=\"text-align: right;\">\n",
       "      <th></th>\n",
       "      <th>Sex_male</th>\n",
       "      <th>Embarked_Q</th>\n",
       "      <th>Embarked_S</th>\n",
       "    </tr>\n",
       "  </thead>\n",
       "  <tbody>\n",
       "    <tr>\n",
       "      <th>0</th>\n",
       "      <td>1</td>\n",
       "      <td>0</td>\n",
       "      <td>1</td>\n",
       "    </tr>\n",
       "    <tr>\n",
       "      <th>1</th>\n",
       "      <td>0</td>\n",
       "      <td>0</td>\n",
       "      <td>0</td>\n",
       "    </tr>\n",
       "    <tr>\n",
       "      <th>2</th>\n",
       "      <td>0</td>\n",
       "      <td>0</td>\n",
       "      <td>1</td>\n",
       "    </tr>\n",
       "    <tr>\n",
       "      <th>3</th>\n",
       "      <td>0</td>\n",
       "      <td>0</td>\n",
       "      <td>1</td>\n",
       "    </tr>\n",
       "    <tr>\n",
       "      <th>4</th>\n",
       "      <td>1</td>\n",
       "      <td>0</td>\n",
       "      <td>1</td>\n",
       "    </tr>\n",
       "    <tr>\n",
       "      <th>...</th>\n",
       "      <td>...</td>\n",
       "      <td>...</td>\n",
       "      <td>...</td>\n",
       "    </tr>\n",
       "    <tr>\n",
       "      <th>886</th>\n",
       "      <td>1</td>\n",
       "      <td>0</td>\n",
       "      <td>1</td>\n",
       "    </tr>\n",
       "    <tr>\n",
       "      <th>887</th>\n",
       "      <td>0</td>\n",
       "      <td>0</td>\n",
       "      <td>1</td>\n",
       "    </tr>\n",
       "    <tr>\n",
       "      <th>888</th>\n",
       "      <td>0</td>\n",
       "      <td>0</td>\n",
       "      <td>1</td>\n",
       "    </tr>\n",
       "    <tr>\n",
       "      <th>889</th>\n",
       "      <td>1</td>\n",
       "      <td>0</td>\n",
       "      <td>0</td>\n",
       "    </tr>\n",
       "    <tr>\n",
       "      <th>890</th>\n",
       "      <td>1</td>\n",
       "      <td>1</td>\n",
       "      <td>0</td>\n",
       "    </tr>\n",
       "  </tbody>\n",
       "</table>\n",
       "<p>891 rows × 3 columns</p>\n",
       "</div>"
      ],
      "text/plain": [
       "     Sex_male  Embarked_Q  Embarked_S\n",
       "0           1           0           1\n",
       "1           0           0           0\n",
       "2           0           0           1\n",
       "3           0           0           1\n",
       "4           1           0           1\n",
       "..        ...         ...         ...\n",
       "886         1           0           1\n",
       "887         0           0           1\n",
       "888         0           0           1\n",
       "889         1           0           0\n",
       "890         1           1           0\n",
       "\n",
       "[891 rows x 3 columns]"
      ]
     },
     "execution_count": 23,
     "metadata": {},
     "output_type": "execute_result"
    }
   ],
   "source": [
    "pd.get_dummies(train_df[categorical_columns], drop_first=True)"
   ]
  },
  {
   "cell_type": "code",
   "execution_count": 24,
   "metadata": {
    "execution": {
     "iopub.execute_input": "2021-01-03T02:57:02.123334Z",
     "iopub.status.busy": "2021-01-03T02:57:02.122394Z",
     "iopub.status.idle": "2021-01-03T02:57:02.312260Z",
     "shell.execute_reply": "2021-01-03T02:57:02.312762Z"
    },
    "papermill": {
     "duration": 0.268087,
     "end_time": "2021-01-03T02:57:02.312924",
     "exception": false,
     "start_time": "2021-01-03T02:57:02.044837",
     "status": "completed"
    },
    "tags": []
   },
   "outputs": [
    {
     "name": "stdout",
     "output_type": "stream",
     "text": [
      "cv-score-mean 0.7912434875400164\n"
     ]
    },
    {
     "name": "stderr",
     "output_type": "stream",
     "text": [
      "/opt/conda/lib/python3.7/site-packages/sklearn/linear_model/_logistic.py:764: ConvergenceWarning: lbfgs failed to converge (status=1):\n",
      "STOP: TOTAL NO. of ITERATIONS REACHED LIMIT.\n",
      "\n",
      "Increase the number of iterations (max_iter) or scale the data as shown in:\n",
      "    https://scikit-learn.org/stable/modules/preprocessing.html\n",
      "Please also refer to the documentation for alternative solver options:\n",
      "    https://scikit-learn.org/stable/modules/linear_model.html#logistic-regression\n",
      "  extra_warning_msg=_LOGISTIC_SOLVER_CONVERGENCE_MSG)\n",
      "/opt/conda/lib/python3.7/site-packages/sklearn/linear_model/_logistic.py:764: ConvergenceWarning: lbfgs failed to converge (status=1):\n",
      "STOP: TOTAL NO. of ITERATIONS REACHED LIMIT.\n",
      "\n",
      "Increase the number of iterations (max_iter) or scale the data as shown in:\n",
      "    https://scikit-learn.org/stable/modules/preprocessing.html\n",
      "Please also refer to the documentation for alternative solver options:\n",
      "    https://scikit-learn.org/stable/modules/linear_model.html#logistic-regression\n",
      "  extra_warning_msg=_LOGISTIC_SOLVER_CONVERGENCE_MSG)\n",
      "/opt/conda/lib/python3.7/site-packages/sklearn/linear_model/_logistic.py:764: ConvergenceWarning: lbfgs failed to converge (status=1):\n",
      "STOP: TOTAL NO. of ITERATIONS REACHED LIMIT.\n",
      "\n",
      "Increase the number of iterations (max_iter) or scale the data as shown in:\n",
      "    https://scikit-learn.org/stable/modules/preprocessing.html\n",
      "Please also refer to the documentation for alternative solver options:\n",
      "    https://scikit-learn.org/stable/modules/linear_model.html#logistic-regression\n",
      "  extra_warning_msg=_LOGISTIC_SOLVER_CONVERGENCE_MSG)\n",
      "/opt/conda/lib/python3.7/site-packages/sklearn/linear_model/_logistic.py:764: ConvergenceWarning: lbfgs failed to converge (status=1):\n",
      "STOP: TOTAL NO. of ITERATIONS REACHED LIMIT.\n",
      "\n",
      "Increase the number of iterations (max_iter) or scale the data as shown in:\n",
      "    https://scikit-learn.org/stable/modules/preprocessing.html\n",
      "Please also refer to the documentation for alternative solver options:\n",
      "    https://scikit-learn.org/stable/modules/linear_model.html#logistic-regression\n",
      "  extra_warning_msg=_LOGISTIC_SOLVER_CONVERGENCE_MSG)\n",
      "/opt/conda/lib/python3.7/site-packages/sklearn/linear_model/_logistic.py:764: ConvergenceWarning: lbfgs failed to converge (status=1):\n",
      "STOP: TOTAL NO. of ITERATIONS REACHED LIMIT.\n",
      "\n",
      "Increase the number of iterations (max_iter) or scale the data as shown in:\n",
      "    https://scikit-learn.org/stable/modules/preprocessing.html\n",
      "Please also refer to the documentation for alternative solver options:\n",
      "    https://scikit-learn.org/stable/modules/linear_model.html#logistic-regression\n",
      "  extra_warning_msg=_LOGISTIC_SOLVER_CONVERGENCE_MSG)\n"
     ]
    }
   ],
   "source": [
    "categorical_df = pd.get_dummies(train_df[categorical_columns],drop_first=True)\n",
    "train_filled_fe_df = pd.concat([train_filled_df, categorical_df], axis=1)\n",
    "train_filled_fe_df\n",
    "\n",
    "lr = LogisticRegression()\n",
    "cv_results = cross_validate(lr, train_filled_fe_df,train_df['Survived'], scoring='accuracy')\n",
    "print ('cv-score-mean',cv_results['test_score'].mean())"
   ]
  },
  {
   "cell_type": "markdown",
   "metadata": {
    "papermill": {
     "duration": 0.069145,
     "end_time": "2021-01-03T02:57:02.452583",
     "exception": false,
     "start_time": "2021-01-03T02:57:02.383438",
     "status": "completed"
    },
    "tags": []
   },
   "source": [
    "３−６. 文字列処理"
   ]
  },
  {
   "cell_type": "code",
   "execution_count": 25,
   "metadata": {
    "execution": {
     "iopub.execute_input": "2021-01-03T02:57:02.601985Z",
     "iopub.status.busy": "2021-01-03T02:57:02.601154Z",
     "iopub.status.idle": "2021-01-03T02:57:02.605401Z",
     "shell.execute_reply": "2021-01-03T02:57:02.604620Z"
    },
    "papermill": {
     "duration": 0.082492,
     "end_time": "2021-01-03T02:57:02.605504",
     "exception": false,
     "start_time": "2021-01-03T02:57:02.523012",
     "status": "completed"
    },
    "tags": []
   },
   "outputs": [
    {
     "data": {
      "text/plain": [
       "B96 B98        4\n",
       "G6             4\n",
       "C23 C25 C27    4\n",
       "C22 C26        3\n",
       "E101           3\n",
       "              ..\n",
       "B79            1\n",
       "A36            1\n",
       "C45            1\n",
       "C49            1\n",
       "C111           1\n",
       "Name: Cabin, Length: 147, dtype: int64"
      ]
     },
     "execution_count": 25,
     "metadata": {},
     "output_type": "execute_result"
    }
   ],
   "source": [
    "train_df['Cabin'].value_counts()"
   ]
  },
  {
   "cell_type": "code",
   "execution_count": 26,
   "metadata": {
    "execution": {
     "iopub.execute_input": "2021-01-03T02:57:02.760615Z",
     "iopub.status.busy": "2021-01-03T02:57:02.751859Z",
     "iopub.status.idle": "2021-01-03T02:57:02.764342Z",
     "shell.execute_reply": "2021-01-03T02:57:02.763742Z"
    },
    "papermill": {
     "duration": 0.088809,
     "end_time": "2021-01-03T02:57:02.764452",
     "exception": false,
     "start_time": "2021-01-03T02:57:02.675643",
     "status": "completed"
    },
    "tags": []
   },
   "outputs": [
    {
     "data": {
      "text/html": [
       "<div>\n",
       "<style scoped>\n",
       "    .dataframe tbody tr th:only-of-type {\n",
       "        vertical-align: middle;\n",
       "    }\n",
       "\n",
       "    .dataframe tbody tr th {\n",
       "        vertical-align: top;\n",
       "    }\n",
       "\n",
       "    .dataframe thead th {\n",
       "        text-align: right;\n",
       "    }\n",
       "</style>\n",
       "<table border=\"1\" class=\"dataframe\">\n",
       "  <thead>\n",
       "    <tr style=\"text-align: right;\">\n",
       "      <th></th>\n",
       "      <th>A</th>\n",
       "      <th>B</th>\n",
       "      <th>C</th>\n",
       "      <th>D</th>\n",
       "      <th>E</th>\n",
       "      <th>F</th>\n",
       "      <th>G</th>\n",
       "      <th>T</th>\n",
       "    </tr>\n",
       "  </thead>\n",
       "  <tbody>\n",
       "    <tr>\n",
       "      <th>0</th>\n",
       "      <td>0</td>\n",
       "      <td>0</td>\n",
       "      <td>0</td>\n",
       "      <td>0</td>\n",
       "      <td>0</td>\n",
       "      <td>0</td>\n",
       "      <td>0</td>\n",
       "      <td>0</td>\n",
       "    </tr>\n",
       "    <tr>\n",
       "      <th>1</th>\n",
       "      <td>0</td>\n",
       "      <td>0</td>\n",
       "      <td>1</td>\n",
       "      <td>0</td>\n",
       "      <td>0</td>\n",
       "      <td>0</td>\n",
       "      <td>0</td>\n",
       "      <td>0</td>\n",
       "    </tr>\n",
       "    <tr>\n",
       "      <th>2</th>\n",
       "      <td>0</td>\n",
       "      <td>0</td>\n",
       "      <td>0</td>\n",
       "      <td>0</td>\n",
       "      <td>0</td>\n",
       "      <td>0</td>\n",
       "      <td>0</td>\n",
       "      <td>0</td>\n",
       "    </tr>\n",
       "    <tr>\n",
       "      <th>3</th>\n",
       "      <td>0</td>\n",
       "      <td>0</td>\n",
       "      <td>1</td>\n",
       "      <td>0</td>\n",
       "      <td>0</td>\n",
       "      <td>0</td>\n",
       "      <td>0</td>\n",
       "      <td>0</td>\n",
       "    </tr>\n",
       "    <tr>\n",
       "      <th>4</th>\n",
       "      <td>0</td>\n",
       "      <td>0</td>\n",
       "      <td>0</td>\n",
       "      <td>0</td>\n",
       "      <td>0</td>\n",
       "      <td>0</td>\n",
       "      <td>0</td>\n",
       "      <td>0</td>\n",
       "    </tr>\n",
       "    <tr>\n",
       "      <th>...</th>\n",
       "      <td>...</td>\n",
       "      <td>...</td>\n",
       "      <td>...</td>\n",
       "      <td>...</td>\n",
       "      <td>...</td>\n",
       "      <td>...</td>\n",
       "      <td>...</td>\n",
       "      <td>...</td>\n",
       "    </tr>\n",
       "    <tr>\n",
       "      <th>886</th>\n",
       "      <td>0</td>\n",
       "      <td>0</td>\n",
       "      <td>0</td>\n",
       "      <td>0</td>\n",
       "      <td>0</td>\n",
       "      <td>0</td>\n",
       "      <td>0</td>\n",
       "      <td>0</td>\n",
       "    </tr>\n",
       "    <tr>\n",
       "      <th>887</th>\n",
       "      <td>0</td>\n",
       "      <td>1</td>\n",
       "      <td>0</td>\n",
       "      <td>0</td>\n",
       "      <td>0</td>\n",
       "      <td>0</td>\n",
       "      <td>0</td>\n",
       "      <td>0</td>\n",
       "    </tr>\n",
       "    <tr>\n",
       "      <th>888</th>\n",
       "      <td>0</td>\n",
       "      <td>0</td>\n",
       "      <td>0</td>\n",
       "      <td>0</td>\n",
       "      <td>0</td>\n",
       "      <td>0</td>\n",
       "      <td>0</td>\n",
       "      <td>0</td>\n",
       "    </tr>\n",
       "    <tr>\n",
       "      <th>889</th>\n",
       "      <td>0</td>\n",
       "      <td>0</td>\n",
       "      <td>1</td>\n",
       "      <td>0</td>\n",
       "      <td>0</td>\n",
       "      <td>0</td>\n",
       "      <td>0</td>\n",
       "      <td>0</td>\n",
       "    </tr>\n",
       "    <tr>\n",
       "      <th>890</th>\n",
       "      <td>0</td>\n",
       "      <td>0</td>\n",
       "      <td>0</td>\n",
       "      <td>0</td>\n",
       "      <td>0</td>\n",
       "      <td>0</td>\n",
       "      <td>0</td>\n",
       "      <td>0</td>\n",
       "    </tr>\n",
       "  </tbody>\n",
       "</table>\n",
       "<p>891 rows × 8 columns</p>\n",
       "</div>"
      ],
      "text/plain": [
       "     A  B  C  D  E  F  G  T\n",
       "0    0  0  0  0  0  0  0  0\n",
       "1    0  0  1  0  0  0  0  0\n",
       "2    0  0  0  0  0  0  0  0\n",
       "3    0  0  1  0  0  0  0  0\n",
       "4    0  0  0  0  0  0  0  0\n",
       "..  .. .. .. .. .. .. .. ..\n",
       "886  0  0  0  0  0  0  0  0\n",
       "887  0  1  0  0  0  0  0  0\n",
       "888  0  0  0  0  0  0  0  0\n",
       "889  0  0  1  0  0  0  0  0\n",
       "890  0  0  0  0  0  0  0  0\n",
       "\n",
       "[891 rows x 8 columns]"
      ]
     },
     "execution_count": 26,
     "metadata": {},
     "output_type": "execute_result"
    }
   ],
   "source": [
    "pd.get_dummies(train_df.Cabin.str[0])"
   ]
  },
  {
   "cell_type": "code",
   "execution_count": 27,
   "metadata": {
    "execution": {
     "iopub.execute_input": "2021-01-03T02:57:02.922236Z",
     "iopub.status.busy": "2021-01-03T02:57:02.921090Z",
     "iopub.status.idle": "2021-01-03T02:57:03.121294Z",
     "shell.execute_reply": "2021-01-03T02:57:03.120689Z"
    },
    "papermill": {
     "duration": 0.286032,
     "end_time": "2021-01-03T02:57:03.121422",
     "exception": false,
     "start_time": "2021-01-03T02:57:02.835390",
     "status": "completed"
    },
    "tags": []
   },
   "outputs": [
    {
     "name": "stdout",
     "output_type": "stream",
     "text": [
      "cv-score-mean 0.7923733601154981\n"
     ]
    },
    {
     "name": "stderr",
     "output_type": "stream",
     "text": [
      "/opt/conda/lib/python3.7/site-packages/sklearn/linear_model/_logistic.py:764: ConvergenceWarning: lbfgs failed to converge (status=1):\n",
      "STOP: TOTAL NO. of ITERATIONS REACHED LIMIT.\n",
      "\n",
      "Increase the number of iterations (max_iter) or scale the data as shown in:\n",
      "    https://scikit-learn.org/stable/modules/preprocessing.html\n",
      "Please also refer to the documentation for alternative solver options:\n",
      "    https://scikit-learn.org/stable/modules/linear_model.html#logistic-regression\n",
      "  extra_warning_msg=_LOGISTIC_SOLVER_CONVERGENCE_MSG)\n",
      "/opt/conda/lib/python3.7/site-packages/sklearn/linear_model/_logistic.py:764: ConvergenceWarning: lbfgs failed to converge (status=1):\n",
      "STOP: TOTAL NO. of ITERATIONS REACHED LIMIT.\n",
      "\n",
      "Increase the number of iterations (max_iter) or scale the data as shown in:\n",
      "    https://scikit-learn.org/stable/modules/preprocessing.html\n",
      "Please also refer to the documentation for alternative solver options:\n",
      "    https://scikit-learn.org/stable/modules/linear_model.html#logistic-regression\n",
      "  extra_warning_msg=_LOGISTIC_SOLVER_CONVERGENCE_MSG)\n",
      "/opt/conda/lib/python3.7/site-packages/sklearn/linear_model/_logistic.py:764: ConvergenceWarning: lbfgs failed to converge (status=1):\n",
      "STOP: TOTAL NO. of ITERATIONS REACHED LIMIT.\n",
      "\n",
      "Increase the number of iterations (max_iter) or scale the data as shown in:\n",
      "    https://scikit-learn.org/stable/modules/preprocessing.html\n",
      "Please also refer to the documentation for alternative solver options:\n",
      "    https://scikit-learn.org/stable/modules/linear_model.html#logistic-regression\n",
      "  extra_warning_msg=_LOGISTIC_SOLVER_CONVERGENCE_MSG)\n",
      "/opt/conda/lib/python3.7/site-packages/sklearn/linear_model/_logistic.py:764: ConvergenceWarning: lbfgs failed to converge (status=1):\n",
      "STOP: TOTAL NO. of ITERATIONS REACHED LIMIT.\n",
      "\n",
      "Increase the number of iterations (max_iter) or scale the data as shown in:\n",
      "    https://scikit-learn.org/stable/modules/preprocessing.html\n",
      "Please also refer to the documentation for alternative solver options:\n",
      "    https://scikit-learn.org/stable/modules/linear_model.html#logistic-regression\n",
      "  extra_warning_msg=_LOGISTIC_SOLVER_CONVERGENCE_MSG)\n",
      "/opt/conda/lib/python3.7/site-packages/sklearn/linear_model/_logistic.py:764: ConvergenceWarning: lbfgs failed to converge (status=1):\n",
      "STOP: TOTAL NO. of ITERATIONS REACHED LIMIT.\n",
      "\n",
      "Increase the number of iterations (max_iter) or scale the data as shown in:\n",
      "    https://scikit-learn.org/stable/modules/preprocessing.html\n",
      "Please also refer to the documentation for alternative solver options:\n",
      "    https://scikit-learn.org/stable/modules/linear_model.html#logistic-regression\n",
      "  extra_warning_msg=_LOGISTIC_SOLVER_CONVERGENCE_MSG)\n"
     ]
    }
   ],
   "source": [
    "categorical_df = pd.get_dummies(train_df[categorical_columns],drop_first=True)\n",
    "train_filled_fe_df = pd.concat([train_filled_df, categorical_df], axis=1)\n",
    "train_filled_fe_df = pd.concat([train_filled_fe_df,pd.get_dummies(train_df.Cabin.str[0])], axis=1)\n",
    "\n",
    "lr = LogisticRegression()\n",
    "cv_results = cross_validate(lr, train_filled_fe_df,train_df['Survived'], scoring='accuracy')\n",
    "print ('cv-score-mean',cv_results['test_score'].mean())"
   ]
  },
  {
   "cell_type": "code",
   "execution_count": 28,
   "metadata": {
    "execution": {
     "iopub.execute_input": "2021-01-03T02:57:03.275117Z",
     "iopub.status.busy": "2021-01-03T02:57:03.274498Z",
     "iopub.status.idle": "2021-01-03T02:57:03.279150Z",
     "shell.execute_reply": "2021-01-03T02:57:03.278551Z"
    },
    "papermill": {
     "duration": 0.085835,
     "end_time": "2021-01-03T02:57:03.279254",
     "exception": false,
     "start_time": "2021-01-03T02:57:03.193419",
     "status": "completed"
    },
    "tags": []
   },
   "outputs": [
    {
     "data": {
      "text/plain": [
       "Rosblom, Mr. Viktor Richard          1\n",
       "Waelens, Mr. Achille                 1\n",
       "Beane, Mrs. Edward (Ethel Clarke)    1\n",
       "Hirvonen, Miss. Hildur E             1\n",
       "Andrews, Miss. Kornelia Theodosia    1\n",
       "                                    ..\n",
       "Kent, Mr. Edward Austin              1\n",
       "Bourke, Mrs. John (Catherine)        1\n",
       "Kalvik, Mr. Johannes Halvorsen       1\n",
       "Hamalainen, Mrs. William (Anna)      1\n",
       "Panula, Mr. Jaako Arnold             1\n",
       "Name: Name, Length: 891, dtype: int64"
      ]
     },
     "execution_count": 28,
     "metadata": {},
     "output_type": "execute_result"
    }
   ],
   "source": [
    "train_df['Name'].value_counts()"
   ]
  },
  {
   "cell_type": "markdown",
   "metadata": {
    "papermill": {
     "duration": 0.072338,
     "end_time": "2021-01-03T02:57:03.424284",
     "exception": false,
     "start_time": "2021-01-03T02:57:03.351946",
     "status": "completed"
    },
    "tags": []
   },
   "source": [
    "3-7. 主成分分析"
   ]
  },
  {
   "cell_type": "code",
   "execution_count": 29,
   "metadata": {
    "execution": {
     "iopub.execute_input": "2021-01-03T02:57:03.620568Z",
     "iopub.status.busy": "2021-01-03T02:57:03.619624Z",
     "iopub.status.idle": "2021-01-03T02:57:03.834686Z",
     "shell.execute_reply": "2021-01-03T02:57:03.833434Z"
    },
    "papermill": {
     "duration": 0.337526,
     "end_time": "2021-01-03T02:57:03.834863",
     "exception": false,
     "start_time": "2021-01-03T02:57:03.497337",
     "status": "completed"
    },
    "tags": []
   },
   "outputs": [
    {
     "name": "stdout",
     "output_type": "stream",
     "text": [
      "cv-score-mean 0.7946331052664616\n"
     ]
    },
    {
     "name": "stderr",
     "output_type": "stream",
     "text": [
      "/opt/conda/lib/python3.7/site-packages/sklearn/linear_model/_logistic.py:764: ConvergenceWarning: lbfgs failed to converge (status=1):\n",
      "STOP: TOTAL NO. of ITERATIONS REACHED LIMIT.\n",
      "\n",
      "Increase the number of iterations (max_iter) or scale the data as shown in:\n",
      "    https://scikit-learn.org/stable/modules/preprocessing.html\n",
      "Please also refer to the documentation for alternative solver options:\n",
      "    https://scikit-learn.org/stable/modules/linear_model.html#logistic-regression\n",
      "  extra_warning_msg=_LOGISTIC_SOLVER_CONVERGENCE_MSG)\n",
      "/opt/conda/lib/python3.7/site-packages/sklearn/linear_model/_logistic.py:764: ConvergenceWarning: lbfgs failed to converge (status=1):\n",
      "STOP: TOTAL NO. of ITERATIONS REACHED LIMIT.\n",
      "\n",
      "Increase the number of iterations (max_iter) or scale the data as shown in:\n",
      "    https://scikit-learn.org/stable/modules/preprocessing.html\n",
      "Please also refer to the documentation for alternative solver options:\n",
      "    https://scikit-learn.org/stable/modules/linear_model.html#logistic-regression\n",
      "  extra_warning_msg=_LOGISTIC_SOLVER_CONVERGENCE_MSG)\n",
      "/opt/conda/lib/python3.7/site-packages/sklearn/linear_model/_logistic.py:764: ConvergenceWarning: lbfgs failed to converge (status=1):\n",
      "STOP: TOTAL NO. of ITERATIONS REACHED LIMIT.\n",
      "\n",
      "Increase the number of iterations (max_iter) or scale the data as shown in:\n",
      "    https://scikit-learn.org/stable/modules/preprocessing.html\n",
      "Please also refer to the documentation for alternative solver options:\n",
      "    https://scikit-learn.org/stable/modules/linear_model.html#logistic-regression\n",
      "  extra_warning_msg=_LOGISTIC_SOLVER_CONVERGENCE_MSG)\n",
      "/opt/conda/lib/python3.7/site-packages/sklearn/linear_model/_logistic.py:764: ConvergenceWarning: lbfgs failed to converge (status=1):\n",
      "STOP: TOTAL NO. of ITERATIONS REACHED LIMIT.\n",
      "\n",
      "Increase the number of iterations (max_iter) or scale the data as shown in:\n",
      "    https://scikit-learn.org/stable/modules/preprocessing.html\n",
      "Please also refer to the documentation for alternative solver options:\n",
      "    https://scikit-learn.org/stable/modules/linear_model.html#logistic-regression\n",
      "  extra_warning_msg=_LOGISTIC_SOLVER_CONVERGENCE_MSG)\n",
      "/opt/conda/lib/python3.7/site-packages/sklearn/linear_model/_logistic.py:764: ConvergenceWarning: lbfgs failed to converge (status=1):\n",
      "STOP: TOTAL NO. of ITERATIONS REACHED LIMIT.\n",
      "\n",
      "Increase the number of iterations (max_iter) or scale the data as shown in:\n",
      "    https://scikit-learn.org/stable/modules/preprocessing.html\n",
      "Please also refer to the documentation for alternative solver options:\n",
      "    https://scikit-learn.org/stable/modules/linear_model.html#logistic-regression\n",
      "  extra_warning_msg=_LOGISTIC_SOLVER_CONVERGENCE_MSG)\n"
     ]
    }
   ],
   "source": [
    "pca = PCA()\n",
    "categorical_df = pd.get_dummies(train_df[categorical_columns],drop_first=True)\n",
    "train_filled_fe_df = pd.concat([train_filled_df, categorical_df], axis=1)\n",
    "train_filled_fe_df = pd.concat([train_filled_fe_df,pd.get_dummies(train_df.Cabin.str[0])], axis=1)\n",
    "train_filled_fe_pca = pca.fit_transform(train_filled_fe_df)\n",
    "lr = LogisticRegression()\n",
    "cv_results = cross_validate(lr, train_filled_fe_pca,train_df['Survived'], scoring='accuracy')\n",
    "print ('cv-score-mean',cv_results['test_score'].mean())"
   ]
  },
  {
   "cell_type": "markdown",
   "metadata": {
    "papermill": {
     "duration": 0.072894,
     "end_time": "2021-01-03T02:57:03.983221",
     "exception": false,
     "start_time": "2021-01-03T02:57:03.910327",
     "status": "completed"
    },
    "tags": []
   },
   "source": [
    "3-8. パイプライン"
   ]
  },
  {
   "cell_type": "code",
   "execution_count": 30,
   "metadata": {
    "execution": {
     "iopub.execute_input": "2021-01-03T02:57:04.140057Z",
     "iopub.status.busy": "2021-01-03T02:57:04.139224Z",
     "iopub.status.idle": "2021-01-03T02:57:04.222211Z",
     "shell.execute_reply": "2021-01-03T02:57:04.221284Z"
    },
    "papermill": {
     "duration": 0.164653,
     "end_time": "2021-01-03T02:57:04.222362",
     "exception": false,
     "start_time": "2021-01-03T02:57:04.057709",
     "status": "completed"
    },
    "tags": []
   },
   "outputs": [
    {
     "name": "stdout",
     "output_type": "stream",
     "text": [
      "cv-score-mean 0.7923796371853619\n"
     ]
    }
   ],
   "source": [
    "classifier_pipeline = make_pipeline(StandardScaler(), PCA(),LogisticRegression())\n",
    "cv_results = cross_validate(classifier_pipeline, train_filled_fe_df,train_df['Survived'], scoring='accuracy')\n",
    "print ('cv-score-mean',cv_results['test_score'].mean())"
   ]
  },
  {
   "cell_type": "markdown",
   "metadata": {
    "papermill": {
     "duration": 0.075469,
     "end_time": "2021-01-03T02:57:04.379377",
     "exception": false,
     "start_time": "2021-01-03T02:57:04.303908",
     "status": "completed"
    },
    "tags": []
   },
   "source": [
    "4-1. サポートベクターマシン"
   ]
  },
  {
   "cell_type": "code",
   "execution_count": 31,
   "metadata": {
    "execution": {
     "iopub.execute_input": "2021-01-03T02:57:04.535352Z",
     "iopub.status.busy": "2021-01-03T02:57:04.534676Z",
     "iopub.status.idle": "2021-01-03T02:57:04.684727Z",
     "shell.execute_reply": "2021-01-03T02:57:04.684030Z"
    },
    "papermill": {
     "duration": 0.231581,
     "end_time": "2021-01-03T02:57:04.684871",
     "exception": false,
     "start_time": "2021-01-03T02:57:04.453290",
     "status": "completed"
    },
    "tags": []
   },
   "outputs": [
    {
     "name": "stdout",
     "output_type": "stream",
     "text": [
      "cv-score-mean 0.8103383340656581\n"
     ]
    }
   ],
   "source": [
    "classifier_pipeline = make_pipeline(StandardScaler(), PCA(),SVC())\n",
    "cv_results = cross_validate(classifier_pipeline, train_filled_fe_df,train_df['Survived'], scoring='accuracy')\n",
    "print ('cv-score-mean',cv_results['test_score'].mean())"
   ]
  },
  {
   "cell_type": "markdown",
   "metadata": {
    "papermill": {
     "duration": 0.073984,
     "end_time": "2021-01-03T02:57:04.836709",
     "exception": false,
     "start_time": "2021-01-03T02:57:04.762725",
     "status": "completed"
    },
    "tags": []
   },
   "source": [
    "4-2. サポートベクターマシーンのハイパーパラメータ"
   ]
  },
  {
   "cell_type": "code",
   "execution_count": 32,
   "metadata": {
    "execution": {
     "iopub.execute_input": "2021-01-03T02:57:04.993541Z",
     "iopub.status.busy": "2021-01-03T02:57:04.992616Z",
     "iopub.status.idle": "2021-01-03T02:57:05.161499Z",
     "shell.execute_reply": "2021-01-03T02:57:05.162095Z"
    },
    "papermill": {
     "duration": 0.250199,
     "end_time": "2021-01-03T02:57:05.162264",
     "exception": false,
     "start_time": "2021-01-03T02:57:04.912065",
     "status": "completed"
    },
    "tags": []
   },
   "outputs": [
    {
     "name": "stdout",
     "output_type": "stream",
     "text": [
      "cv-score-mean 0.7721863034335573\n"
     ]
    }
   ],
   "source": [
    "classifier_pipeline = make_pipeline(StandardScaler(), PCA(),SVC(C=0.1))\n",
    "cv_results = cross_validate(classifier_pipeline, train_filled_fe_df,train_df['Survived'], scoring='accuracy')\n",
    "print ('cv-score-mean',cv_results['test_score'].mean())"
   ]
  },
  {
   "cell_type": "markdown",
   "metadata": {
    "papermill": {
     "duration": 0.074743,
     "end_time": "2021-01-03T02:57:05.316803",
     "exception": false,
     "start_time": "2021-01-03T02:57:05.242060",
     "status": "completed"
    },
    "tags": []
   },
   "source": [
    "4-３. ニューラルネットワーク"
   ]
  },
  {
   "cell_type": "code",
   "execution_count": 33,
   "metadata": {
    "execution": {
     "iopub.execute_input": "2021-01-03T02:57:05.473587Z",
     "iopub.status.busy": "2021-01-03T02:57:05.472087Z",
     "iopub.status.idle": "2021-01-03T02:57:09.068540Z",
     "shell.execute_reply": "2021-01-03T02:57:09.069372Z"
    },
    "papermill": {
     "duration": 3.677861,
     "end_time": "2021-01-03T02:57:09.069557",
     "exception": false,
     "start_time": "2021-01-03T02:57:05.391696",
     "status": "completed"
    },
    "tags": []
   },
   "outputs": [
    {
     "name": "stderr",
     "output_type": "stream",
     "text": [
      "/opt/conda/lib/python3.7/site-packages/sklearn/neural_network/_multilayer_perceptron.py:585: ConvergenceWarning: Stochastic Optimizer: Maximum iterations (200) reached and the optimization hasn't converged yet.\n",
      "  % self.max_iter, ConvergenceWarning)\n",
      "/opt/conda/lib/python3.7/site-packages/sklearn/neural_network/_multilayer_perceptron.py:585: ConvergenceWarning: Stochastic Optimizer: Maximum iterations (200) reached and the optimization hasn't converged yet.\n",
      "  % self.max_iter, ConvergenceWarning)\n",
      "/opt/conda/lib/python3.7/site-packages/sklearn/neural_network/_multilayer_perceptron.py:585: ConvergenceWarning: Stochastic Optimizer: Maximum iterations (200) reached and the optimization hasn't converged yet.\n",
      "  % self.max_iter, ConvergenceWarning)\n",
      "/opt/conda/lib/python3.7/site-packages/sklearn/neural_network/_multilayer_perceptron.py:585: ConvergenceWarning: Stochastic Optimizer: Maximum iterations (200) reached and the optimization hasn't converged yet.\n",
      "  % self.max_iter, ConvergenceWarning)\n"
     ]
    },
    {
     "name": "stdout",
     "output_type": "stream",
     "text": [
      "cv-score-mean 0.8227041616973197\n"
     ]
    },
    {
     "name": "stderr",
     "output_type": "stream",
     "text": [
      "/opt/conda/lib/python3.7/site-packages/sklearn/neural_network/_multilayer_perceptron.py:585: ConvergenceWarning: Stochastic Optimizer: Maximum iterations (200) reached and the optimization hasn't converged yet.\n",
      "  % self.max_iter, ConvergenceWarning)\n"
     ]
    }
   ],
   "source": [
    "classifier_pipeline = make_pipeline(StandardScaler(), PCA(),MLPClassifier())\n",
    "cv_results = cross_validate(classifier_pipeline, train_filled_fe_df,train_df['Survived'], scoring='accuracy')\n",
    "print ('cv-score-mean',cv_results['test_score'].mean())"
   ]
  },
  {
   "cell_type": "markdown",
   "metadata": {
    "papermill": {
     "duration": 0.081001,
     "end_time": "2021-01-03T02:57:09.217918",
     "exception": false,
     "start_time": "2021-01-03T02:57:09.136917",
     "status": "completed"
    },
    "tags": []
   },
   "source": [
    "4-4. ニューラルネットワークのハイパーパラメータ"
   ]
  },
  {
   "cell_type": "code",
   "execution_count": 34,
   "metadata": {
    "execution": {
     "iopub.execute_input": "2021-01-03T02:57:09.383764Z",
     "iopub.status.busy": "2021-01-03T02:57:09.382874Z",
     "iopub.status.idle": "2021-01-03T02:57:12.497369Z",
     "shell.execute_reply": "2021-01-03T02:57:12.496871Z"
    },
    "papermill": {
     "duration": 3.199208,
     "end_time": "2021-01-03T02:57:12.497475",
     "exception": false,
     "start_time": "2021-01-03T02:57:09.298267",
     "status": "completed"
    },
    "tags": []
   },
   "outputs": [
    {
     "name": "stderr",
     "output_type": "stream",
     "text": [
      "/opt/conda/lib/python3.7/site-packages/sklearn/neural_network/_multilayer_perceptron.py:585: ConvergenceWarning: Stochastic Optimizer: Maximum iterations (200) reached and the optimization hasn't converged yet.\n",
      "  % self.max_iter, ConvergenceWarning)\n",
      "/opt/conda/lib/python3.7/site-packages/sklearn/neural_network/_multilayer_perceptron.py:585: ConvergenceWarning: Stochastic Optimizer: Maximum iterations (200) reached and the optimization hasn't converged yet.\n",
      "  % self.max_iter, ConvergenceWarning)\n",
      "/opt/conda/lib/python3.7/site-packages/sklearn/neural_network/_multilayer_perceptron.py:585: ConvergenceWarning: Stochastic Optimizer: Maximum iterations (200) reached and the optimization hasn't converged yet.\n",
      "  % self.max_iter, ConvergenceWarning)\n",
      "/opt/conda/lib/python3.7/site-packages/sklearn/neural_network/_multilayer_perceptron.py:585: ConvergenceWarning: Stochastic Optimizer: Maximum iterations (200) reached and the optimization hasn't converged yet.\n",
      "  % self.max_iter, ConvergenceWarning)\n"
     ]
    },
    {
     "name": "stdout",
     "output_type": "stream",
     "text": [
      "cv-score-mean 0.8204444165463561\n"
     ]
    },
    {
     "name": "stderr",
     "output_type": "stream",
     "text": [
      "/opt/conda/lib/python3.7/site-packages/sklearn/neural_network/_multilayer_perceptron.py:585: ConvergenceWarning: Stochastic Optimizer: Maximum iterations (200) reached and the optimization hasn't converged yet.\n",
      "  % self.max_iter, ConvergenceWarning)\n"
     ]
    }
   ],
   "source": [
    "classifier_pipeline = make_pipeline(StandardScaler(), PCA(),MLPClassifier(hidden_layer_sizes=(10,10)))\n",
    "cv_results = cross_validate(classifier_pipeline, train_filled_fe_df,train_df['Survived'], scoring='accuracy')\n",
    "print ('cv-score-mean',cv_results['test_score'].mean())"
   ]
  },
  {
   "cell_type": "markdown",
   "metadata": {
    "papermill": {
     "duration": 0.078817,
     "end_time": "2021-01-03T02:57:12.656646",
     "exception": false,
     "start_time": "2021-01-03T02:57:12.577829",
     "status": "completed"
    },
    "tags": []
   },
   "source": [
    "4-5. 決定木"
   ]
  },
  {
   "cell_type": "code",
   "execution_count": 35,
   "metadata": {
    "execution": {
     "iopub.execute_input": "2021-01-03T02:57:12.823039Z",
     "iopub.status.busy": "2021-01-03T02:57:12.822117Z",
     "iopub.status.idle": "2021-01-03T02:57:12.941929Z",
     "shell.execute_reply": "2021-01-03T02:57:12.941421Z"
    },
    "papermill": {
     "duration": 0.206099,
     "end_time": "2021-01-03T02:57:12.942042",
     "exception": false,
     "start_time": "2021-01-03T02:57:12.735943",
     "status": "completed"
    },
    "tags": []
   },
   "outputs": [
    {
     "name": "stdout",
     "output_type": "stream",
     "text": [
      "cv-score-mean 0.7373673968991274\n"
     ]
    }
   ],
   "source": [
    "classifier_pipeline = make_pipeline(StandardScaler(), PCA(),tree.DecisionTreeClassifier())\n",
    "cv_results = cross_validate(classifier_pipeline, train_filled_fe_df,train_df['Survived'], scoring='accuracy')\n",
    "print ('cv-score-mean',cv_results['test_score'].mean())"
   ]
  },
  {
   "cell_type": "code",
   "execution_count": 36,
   "metadata": {
    "execution": {
     "iopub.execute_input": "2021-01-03T02:57:13.106208Z",
     "iopub.status.busy": "2021-01-03T02:57:13.105295Z",
     "iopub.status.idle": "2021-01-03T02:57:13.338979Z",
     "shell.execute_reply": "2021-01-03T02:57:13.338349Z"
    },
    "papermill": {
     "duration": 0.317153,
     "end_time": "2021-01-03T02:57:13.339079",
     "exception": false,
     "start_time": "2021-01-03T02:57:13.021926",
     "status": "completed"
    },
    "tags": []
   },
   "outputs": [
    {
     "data": {
      "image/png": "[encoded data removed]",
      "text/plain": [
       "<Figure size 432x288 with 1 Axes>"
      ]
     },
     "metadata": {
      "needs_background": "light"
     },
     "output_type": "display_data"
    }
   ],
   "source": [
    "clf = tree.DecisionTreeClassifier(max_depth=2, criterion=\"entropy\").fit(train_filled_fe_df,train_df['Survived'])\n",
    "tree.plot_tree(clf, filled=True)\n",
    "plt.show()"
   ]
  },
  {
   "cell_type": "markdown",
   "metadata": {
    "papermill": {
     "duration": 0.08091,
     "end_time": "2021-01-03T02:57:13.502259",
     "exception": false,
     "start_time": "2021-01-03T02:57:13.421349",
     "status": "completed"
    },
    "tags": []
   },
   "source": [
    "4-6. 決定木のハイパーパラメータ"
   ]
  },
  {
   "cell_type": "code",
   "execution_count": 37,
   "metadata": {
    "execution": {
     "iopub.execute_input": "2021-01-03T02:57:13.672401Z",
     "iopub.status.busy": "2021-01-03T02:57:13.671805Z",
     "iopub.status.idle": "2021-01-03T02:57:13.813233Z",
     "shell.execute_reply": "2021-01-03T02:57:13.813857Z"
    },
    "papermill": {
     "duration": 0.230379,
     "end_time": "2021-01-03T02:57:13.814031",
     "exception": false,
     "start_time": "2021-01-03T02:57:13.583652",
     "status": "completed"
    },
    "tags": []
   },
   "outputs": [
    {
     "name": "stdout",
     "output_type": "stream",
     "text": [
      "cv-score-mean 0.7788964911179461\n"
     ]
    }
   ],
   "source": [
    "params = {\n",
    "    \"max_depth\":3,\n",
    "    \"criterion\":\"entropy\",\n",
    "}\n",
    "classifier_pipeline = make_pipeline(StandardScaler(), PCA(),tree.DecisionTreeClassifier(**params))\n",
    "cv_results = cross_validate(classifier_pipeline, train_filled_fe_df,train_df['Survived'], scoring='accuracy')\n",
    "print ('cv-score-mean',cv_results['test_score'].mean())"
   ]
  },
  {
   "cell_type": "markdown",
   "metadata": {
    "papermill": {
     "duration": 0.084015,
     "end_time": "2021-01-03T02:57:13.986767",
     "exception": false,
     "start_time": "2021-01-03T02:57:13.902752",
     "status": "completed"
    },
    "tags": []
   },
   "source": [
    "4-7. ランダムフォレスト"
   ]
  },
  {
   "cell_type": "code",
   "execution_count": 38,
   "metadata": {
    "execution": {
     "iopub.execute_input": "2021-01-03T02:57:14.155540Z",
     "iopub.status.busy": "2021-01-03T02:57:14.154660Z",
     "iopub.status.idle": "2021-01-03T02:57:16.064649Z",
     "shell.execute_reply": "2021-01-03T02:57:16.065399Z"
    },
    "papermill": {
     "duration": 1.99564,
     "end_time": "2021-01-03T02:57:16.065575",
     "exception": false,
     "start_time": "2021-01-03T02:57:14.069935",
     "status": "completed"
    },
    "tags": []
   },
   "outputs": [
    {
     "name": "stdout",
     "output_type": "stream",
     "text": [
      "cv-score-mean 0.7811499591990458\n"
     ]
    }
   ],
   "source": [
    "classifier_pipeline = make_pipeline(StandardScaler(), PCA(),RandomForestClassifier())\n",
    "cv_results = cross_validate(classifier_pipeline, train_filled_fe_df,train_df['Survived'], scoring='accuracy')\n",
    "print ('cv-score-mean',cv_results['test_score'].mean())"
   ]
  },
  {
   "cell_type": "markdown",
   "metadata": {
    "papermill": {
     "duration": 0.081844,
     "end_time": "2021-01-03T02:57:16.229515",
     "exception": false,
     "start_time": "2021-01-03T02:57:16.147671",
     "status": "completed"
    },
    "tags": []
   },
   "source": [
    "4-8. ランダムフォレストのハイパーパラメータ"
   ]
  },
  {
   "cell_type": "code",
   "execution_count": 39,
   "metadata": {
    "execution": {
     "iopub.execute_input": "2021-01-03T02:57:16.398861Z",
     "iopub.status.busy": "2021-01-03T02:57:16.397978Z",
     "iopub.status.idle": "2021-01-03T02:57:19.630336Z",
     "shell.execute_reply": "2021-01-03T02:57:19.631087Z"
    },
    "papermill": {
     "duration": 3.320396,
     "end_time": "2021-01-03T02:57:19.631251",
     "exception": false,
     "start_time": "2021-01-03T02:57:16.310855",
     "status": "completed"
    },
    "tags": []
   },
   "outputs": [
    {
     "name": "stdout",
     "output_type": "stream",
     "text": [
      "cv-score-mean 0.7991337643587972\n"
     ]
    }
   ],
   "source": [
    "params = {\n",
    "    \"n_estimators\":100,\n",
    "    \"max_depth\":5,\n",
    "    \"criterion\":\"entropy\",\n",
    "}\n",
    "classifier_pipeline = make_pipeline(StandardScaler(), PCA(),RandomForestClassifier(**params))\n",
    "cv_results = cross_validate(classifier_pipeline, train_filled_fe_df,train_df['Survived'], scoring='accuracy')\n",
    "print ('cv-score-mean',cv_results['test_score'].mean())"
   ]
  },
  {
   "cell_type": "markdown",
   "metadata": {
    "papermill": {
     "duration": 0.082178,
     "end_time": "2021-01-03T02:57:19.796987",
     "exception": false,
     "start_time": "2021-01-03T02:57:19.714809",
     "status": "completed"
    },
    "tags": []
   },
   "source": [
    "4-9. k近傍法"
   ]
  },
  {
   "cell_type": "code",
   "execution_count": 40,
   "metadata": {
    "execution": {
     "iopub.execute_input": "2021-01-03T02:57:19.965484Z",
     "iopub.status.busy": "2021-01-03T02:57:19.964625Z",
     "iopub.status.idle": "2021-01-03T02:57:20.113345Z",
     "shell.execute_reply": "2021-01-03T02:57:20.112392Z"
    },
    "papermill": {
     "duration": 0.234289,
     "end_time": "2021-01-03T02:57:20.113500",
     "exception": false,
     "start_time": "2021-01-03T02:57:19.879211",
     "status": "completed"
    },
    "tags": []
   },
   "outputs": [
    {
     "name": "stdout",
     "output_type": "stream",
     "text": [
      "cv-score-mean 0.7957378695624884\n"
     ]
    }
   ],
   "source": [
    "classifier_pipeline = make_pipeline(StandardScaler(), PCA(),KNeighborsClassifier())\n",
    "cv_results = cross_validate(classifier_pipeline, train_filled_fe_df,train_df['Survived'], scoring='accuracy')\n",
    "print ('cv-score-mean',cv_results['test_score'].mean())"
   ]
  },
  {
   "cell_type": "markdown",
   "metadata": {
    "papermill": {
     "duration": 0.125387,
     "end_time": "2021-01-03T02:57:20.366296",
     "exception": false,
     "start_time": "2021-01-03T02:57:20.240909",
     "status": "completed"
    },
    "tags": []
   },
   "source": [
    "4-10. k近傍法のハイパーパラメータ"
   ]
  },
  {
   "cell_type": "code",
   "execution_count": 41,
   "metadata": {
    "execution": {
     "iopub.execute_input": "2021-01-03T02:57:20.626528Z",
     "iopub.status.busy": "2021-01-03T02:57:20.625608Z",
     "iopub.status.idle": "2021-01-03T02:57:20.774222Z",
     "shell.execute_reply": "2021-01-03T02:57:20.774890Z"
    },
    "papermill": {
     "duration": 0.283434,
     "end_time": "2021-01-03T02:57:20.775063",
     "exception": false,
     "start_time": "2021-01-03T02:57:20.491629",
     "status": "completed"
    },
    "tags": []
   },
   "outputs": [
    {
     "name": "stdout",
     "output_type": "stream",
     "text": [
      "cv-score-mean 0.8035904839620864\n"
     ]
    }
   ],
   "source": [
    "classifier_pipeline = make_pipeline(StandardScaler(), PCA(),KNeighborsClassifier(n_neighbors=6))\n",
    "cv_results = cross_validate(classifier_pipeline, train_filled_fe_df,train_df['Survived'], scoring='accuracy')\n",
    "print ('cv-score-mean',cv_results['test_score'].mean())"
   ]
  },
  {
   "cell_type": "markdown",
   "metadata": {
    "papermill": {
     "duration": 0.083241,
     "end_time": "2021-01-03T02:57:20.943164",
     "exception": false,
     "start_time": "2021-01-03T02:57:20.859923",
     "status": "completed"
    },
    "tags": []
   },
   "source": [
    "4-11. ナイーブベイズ分類器"
   ]
  },
  {
   "cell_type": "code",
   "execution_count": 42,
   "metadata": {
    "execution": {
     "iopub.execute_input": "2021-01-03T02:57:21.118916Z",
     "iopub.status.busy": "2021-01-03T02:57:21.118216Z",
     "iopub.status.idle": "2021-01-03T02:57:21.174005Z",
     "shell.execute_reply": "2021-01-03T02:57:21.173123Z"
    },
    "papermill": {
     "duration": 0.147054,
     "end_time": "2021-01-03T02:57:21.174142",
     "exception": false,
     "start_time": "2021-01-03T02:57:21.027088",
     "status": "completed"
    },
    "tags": []
   },
   "outputs": [
    {
     "name": "stdout",
     "output_type": "stream",
     "text": [
      "cv-score-mean 0.7676793672713578\n"
     ]
    }
   ],
   "source": [
    "classifier_pipeline = make_pipeline(StandardScaler(), PCA(),BernoulliNB())\n",
    "cv_results = cross_validate(classifier_pipeline, train_filled_fe_df,train_df['Survived'], scoring='accuracy')\n",
    "print ('cv-score-mean',cv_results['test_score'].mean())"
   ]
  },
  {
   "cell_type": "markdown",
   "metadata": {
    "papermill": {
     "duration": 0.107217,
     "end_time": "2021-01-03T02:57:21.387914",
     "exception": false,
     "start_time": "2021-01-03T02:57:21.280697",
     "status": "completed"
    },
    "tags": []
   },
   "source": [
    "4-12. ナイーブベイズ分類機のハイパーパラメータ"
   ]
  },
  {
   "cell_type": "code",
   "execution_count": 43,
   "metadata": {
    "execution": {
     "iopub.execute_input": "2021-01-03T02:57:21.570306Z",
     "iopub.status.busy": "2021-01-03T02:57:21.569426Z",
     "iopub.status.idle": "2021-01-03T02:57:21.645205Z",
     "shell.execute_reply": "2021-01-03T02:57:21.647473Z"
    },
    "papermill": {
     "duration": 0.176332,
     "end_time": "2021-01-03T02:57:21.647664",
     "exception": false,
     "start_time": "2021-01-03T02:57:21.471332",
     "status": "completed"
    },
    "tags": []
   },
   "outputs": [
    {
     "name": "stdout",
     "output_type": "stream",
     "text": [
      "cv-score-mean 0.7676793672713578\n"
     ]
    }
   ],
   "source": [
    "classifier_pipeline = make_pipeline(StandardScaler(), PCA(),BernoulliNB(alpha=0.1))\n",
    "cv_results = cross_validate(classifier_pipeline, train_filled_fe_df,train_df['Survived'], scoring='accuracy')\n",
    "print ('cv-score-mean',cv_results['test_score'].mean())"
   ]
  },
  {
   "cell_type": "markdown",
   "metadata": {
    "papermill": {
     "duration": 0.083426,
     "end_time": "2021-01-03T02:57:21.818520",
     "exception": false,
     "start_time": "2021-01-03T02:57:21.735094",
     "status": "completed"
    },
    "tags": []
   },
   "source": [
    "4-13. LightGBM"
   ]
  },
  {
   "cell_type": "code",
   "execution_count": 44,
   "metadata": {
    "execution": {
     "iopub.execute_input": "2021-01-03T02:57:21.993967Z",
     "iopub.status.busy": "2021-01-03T02:57:21.993141Z",
     "iopub.status.idle": "2021-01-03T02:57:22.804256Z",
     "shell.execute_reply": "2021-01-03T02:57:22.805229Z"
    },
    "papermill": {
     "duration": 0.902906,
     "end_time": "2021-01-03T02:57:22.805405",
     "exception": false,
     "start_time": "2021-01-03T02:57:21.902499",
     "status": "completed"
    },
    "tags": []
   },
   "outputs": [
    {
     "name": "stdout",
     "output_type": "stream",
     "text": [
      "cv-score-mean 0.7777791726821921\n"
     ]
    }
   ],
   "source": [
    "classifier_pipeline = make_pipeline(StandardScaler(), PCA(),lgb.LGBMClassifier())\n",
    "cv_results = cross_validate(classifier_pipeline, train_filled_fe_df,train_df['Survived'], scoring='accuracy')\n",
    "print ('cv-score-mean',cv_results['test_score'].mean())"
   ]
  },
  {
   "cell_type": "markdown",
   "metadata": {
    "papermill": {
     "duration": 0.134187,
     "end_time": "2021-01-03T02:57:23.091074",
     "exception": false,
     "start_time": "2021-01-03T02:57:22.956887",
     "status": "completed"
    },
    "tags": []
   },
   "source": [
    "4-14. LightGBMのハイパーパラメータ"
   ]
  },
  {
   "cell_type": "code",
   "execution_count": 45,
   "metadata": {
    "execution": {
     "iopub.execute_input": "2021-01-03T02:57:23.337477Z",
     "iopub.status.busy": "2021-01-03T02:57:23.336295Z",
     "iopub.status.idle": "2021-01-03T02:57:23.970542Z",
     "shell.execute_reply": "2021-01-03T02:57:23.971850Z"
    },
    "papermill": {
     "duration": 0.75201,
     "end_time": "2021-01-03T02:57:23.972040",
     "exception": false,
     "start_time": "2021-01-03T02:57:23.220030",
     "status": "completed"
    },
    "tags": []
   },
   "outputs": [
    {
     "name": "stdout",
     "output_type": "stream",
     "text": [
      "cv-score-mean 0.8092084614901763\n"
     ]
    }
   ],
   "source": [
    "params = { \n",
    "            \"num_leaves\": 16,\n",
    "            \"min_data_in_leaf\": 16,\n",
    "            \"max_depth\": 6,\n",
    "            \"learning_rate\": 0.05,\n",
    "            \"feature_fraction\": 0.8,\n",
    "            \"bagging_freq\": 1,\n",
    "            \"bagging_fraction\": 0.8,\n",
    "            \"lambda_l1\": 0.15,\n",
    "            \"lambda_l2\": 0.15\n",
    "         }\n",
    "classifier_pipeline = make_pipeline(StandardScaler(),PCA(),lgb.LGBMClassifier(**params))\n",
    "cv_results = cross_validate(classifier_pipeline, train_filled_fe_df,train_df['Survived'], scoring='accuracy')\n",
    "print ('cv-score-mean',cv_results['test_score'].mean())"
   ]
  },
  {
   "cell_type": "markdown",
   "metadata": {
    "papermill": {
     "duration": 0.13389,
     "end_time": "2021-01-03T02:57:24.257707",
     "exception": false,
     "start_time": "2021-01-03T02:57:24.123817",
     "status": "completed"
    },
    "tags": []
   },
   "source": [
    "5-1. return_estimator"
   ]
  },
  {
   "cell_type": "code",
   "execution_count": 46,
   "metadata": {
    "execution": {
     "iopub.execute_input": "2021-01-03T02:57:24.534514Z",
     "iopub.status.busy": "2021-01-03T02:57:24.533341Z",
     "iopub.status.idle": "2021-01-03T02:57:25.090132Z",
     "shell.execute_reply": "2021-01-03T02:57:25.091514Z"
    },
    "papermill": {
     "duration": 0.704468,
     "end_time": "2021-01-03T02:57:25.091706",
     "exception": false,
     "start_time": "2021-01-03T02:57:24.387238",
     "status": "completed"
    },
    "tags": []
   },
   "outputs": [
    {
     "name": "stdout",
     "output_type": "stream",
     "text": [
      "cv-score-mean 0.8092084614901763\n"
     ]
    }
   ],
   "source": [
    "df = pd.concat([train_df, test_df],axis=0)\n",
    "filled_df = df[numeric_columns].fillna(train_df.median())\n",
    "categorical_df = pd.get_dummies(df[categorical_columns],drop_first=True)\n",
    "filled_fe_df = pd.concat([filled_df, categorical_df], axis=1)\n",
    "filled_fe_df = pd.concat([filled_fe_df,pd.get_dummies(df.Cabin.str[0])], axis=1)\n",
    "classifier_pipeline = make_pipeline(StandardScaler(), PCA(),lgb.LGBMClassifier(**params))\n",
    "train_filled_fe_df = filled_fe_df[:len(train_df)]\n",
    "test_filled_fe_df = filled_fe_df[len(train_df):]\n",
    "cv_results = cross_validate(classifier_pipeline, train_filled_fe_df,train_df['Survived'], scoring='accuracy', return_estimator=True)\n",
    "print ('cv-score-mean',cv_results['test_score'].mean())"
   ]
  },
  {
   "cell_type": "markdown",
   "metadata": {
    "papermill": {
     "duration": 0.135306,
     "end_time": "2021-01-03T02:57:25.378911",
     "exception": false,
     "start_time": "2021-01-03T02:57:25.243605",
     "status": "completed"
    },
    "tags": []
   },
   "source": [
    "5-2. テストデータの予測"
   ]
  },
  {
   "cell_type": "code",
   "execution_count": 47,
   "metadata": {
    "execution": {
     "iopub.execute_input": "2021-01-03T02:57:25.652208Z",
     "iopub.status.busy": "2021-01-03T02:57:25.651434Z",
     "iopub.status.idle": "2021-01-03T02:57:25.689766Z",
     "shell.execute_reply": "2021-01-03T02:57:25.690529Z"
    },
    "papermill": {
     "duration": 0.181299,
     "end_time": "2021-01-03T02:57:25.690711",
     "exception": false,
     "start_time": "2021-01-03T02:57:25.509412",
     "status": "completed"
    },
    "tags": []
   },
   "outputs": [
    {
     "data": {
      "text/plain": [
       "array([0. , 0. , 0. , 0. , 0. , 0. , 0.8, 0. , 1. , 0. , 0. , 0. , 1. ,\n",
       "       0. , 1. , 1. , 0. , 0.2, 0.2, 0.8, 0. , 1. , 1. , 0.4, 1. , 0. ,\n",
       "       1. , 0. , 0. , 0. , 0. , 0. , 0. , 0. , 0.2, 0.2, 0. , 0.4, 0. ,\n",
       "       0.8, 0. , 1. , 0. , 1. , 1. , 0. , 0.4, 0. , 1. , 0. , 0.2, 0. ,\n",
       "       1. , 1. , 0. , 0. , 0. , 0. , 0. , 1. , 0. , 0. , 0. , 1. , 1. ,\n",
       "       1. , 1. , 0. , 0.4, 0.6, 1. , 0. , 0. , 1. , 1. , 0.2, 0. , 1. ,\n",
       "       0. , 1. , 0.8, 0. , 0. , 0. , 0. , 0. , 1. , 0.6, 1. , 1. , 0. ,\n",
       "       0. , 1. , 0. , 0. , 0. , 1. , 0. , 0.6, 0. , 1. , 0. , 0. , 0. ,\n",
       "       0.6, 0. , 0. , 0. , 0. , 0. , 0. , 1. , 0.8, 0.8, 1. , 0. , 0. ,\n",
       "       0.6, 0.2, 1. , 1. , 0. , 1. , 0. , 0. , 0.8, 0. , 0.8, 0. , 0. ,\n",
       "       0. , 0.2, 0. , 0. , 0. , 0. , 0. , 0. , 0.4, 0. , 0. , 1. , 0.4,\n",
       "       0. , 0. , 0. , 1. , 0. , 0.2, 0. , 1. , 0. , 0. , 0. , 0. , 0. ,\n",
       "       1. , 0.6, 0.4, 0.8, 1. , 0.8, 1. , 0. , 0. , 0. , 0. , 0. , 1. ,\n",
       "       0.6, 0. , 0. , 0. , 0. , 0. , 1. , 1. , 0.4, 1. , 0.8, 0. , 1. ,\n",
       "       1. , 0. , 1. , 0. , 1. , 0. , 0. , 0. , 0. , 0.2, 0.4, 0. , 1. ,\n",
       "       0. , 1. , 0.4, 0. , 0. , 0.8, 1. , 0. , 1. , 0. , 0. , 0.4, 0. ,\n",
       "       0.8, 0. , 0. , 0. , 0. , 1. , 0. , 0. , 1. , 0. , 1. , 0. , 1. ,\n",
       "       0. , 1. , 0. , 1. , 0.4, 0. , 1. , 0. , 0. , 0. , 1. , 0. , 0. ,\n",
       "       0. , 0. , 0.4, 0.4, 1. , 1. , 1. , 1. , 0.8, 0. , 0. , 0.8, 1. ,\n",
       "       0. , 1. , 0. , 1. , 0. , 0.4, 0. , 0. , 0. , 0. , 0. , 1. , 0. ,\n",
       "       0. , 0. , 1. , 1. , 0. , 0. , 0. , 0. , 0. , 0. , 0. , 0. , 1. ,\n",
       "       1. , 0. , 1. , 0. , 0. , 0. , 0. , 0.2, 1. , 1. , 0.4, 1. , 0. ,\n",
       "       0. , 1. , 0. , 0. , 0. , 0.8, 0. , 0.8, 0. , 0. , 1. , 0. , 0. ,\n",
       "       0. , 0. , 1. , 0. , 0. , 1. , 1. , 0. , 1. , 0. , 0.2, 0. , 0.4,\n",
       "       0. , 0.4, 1. , 1. , 0.4, 0. , 0. , 0. , 0. , 0.2, 0. , 0.4, 1. ,\n",
       "       0. , 1. , 0. , 0. , 0. , 1. , 0.6, 0. , 0.4, 0. , 0.6, 0. , 0. ,\n",
       "       0. , 0. , 0. , 0. , 0. , 1. , 0. , 0.6, 0. , 0.6, 0. , 1. , 1. ,\n",
       "       0. , 0. , 0. , 1. , 0.6, 1. , 0. , 0. , 0.6, 0. , 1. , 1. , 0. ,\n",
       "       1. , 0.4, 0. , 0.8, 1. , 0. , 0. , 1. , 0. , 0. , 0.8, 1. , 0. ,\n",
       "       0. , 0. , 0. , 0. , 0. , 0.2, 0. , 0. , 1. , 0. , 0. , 0. , 0. ,\n",
       "       0.4, 1. , 1. , 0. , 0. , 1. , 0. , 1. , 0. , 0. , 1. , 0. , 1. ,\n",
       "       0. , 1. , 1. , 0. , 0. , 1. , 1. , 1. , 1. , 0. , 0. , 1. , 0. ,\n",
       "       0. , 0.2])"
      ]
     },
     "execution_count": 47,
     "metadata": {},
     "output_type": "execute_result"
    }
   ],
   "source": [
    "preds = []\n",
    "for estimators in cv_results['estimator']:\n",
    "    preds.append(estimators.predict(test_filled_fe_df))\n",
    "pred_float = np.mean(preds,axis=0)\n",
    "pred_float"
   ]
  },
  {
   "cell_type": "code",
   "execution_count": 48,
   "metadata": {
    "execution": {
     "iopub.execute_input": "2021-01-03T02:57:25.991010Z",
     "iopub.status.busy": "2021-01-03T02:57:25.990233Z",
     "iopub.status.idle": "2021-01-03T02:57:25.994197Z",
     "shell.execute_reply": "2021-01-03T02:57:25.994693Z"
    },
    "papermill": {
     "duration": 0.148403,
     "end_time": "2021-01-03T02:57:25.994861",
     "exception": false,
     "start_time": "2021-01-03T02:57:25.846458",
     "status": "completed"
    },
    "tags": []
   },
   "outputs": [
    {
     "data": {
      "text/plain": [
       "array([0, 0, 0, 0, 0, 0, 1, 0, 1, 0, 0, 0, 1, 0, 1, 1, 0, 0, 0, 1, 0, 1,\n",
       "       1, 0, 1, 0, 1, 0, 0, 0, 0, 0, 0, 0, 0, 0, 0, 0, 0, 1, 0, 1, 0, 1,\n",
       "       1, 0, 0, 0, 1, 0, 0, 0, 1, 1, 0, 0, 0, 0, 0, 1, 0, 0, 0, 1, 1, 1,\n",
       "       1, 0, 0, 1, 1, 0, 0, 1, 1, 0, 0, 1, 0, 1, 1, 0, 0, 0, 0, 0, 1, 1,\n",
       "       1, 1, 0, 0, 1, 0, 0, 0, 1, 0, 1, 0, 1, 0, 0, 0, 1, 0, 0, 0, 0, 0,\n",
       "       0, 1, 1, 1, 1, 0, 0, 1, 0, 1, 1, 0, 1, 0, 0, 1, 0, 1, 0, 0, 0, 0,\n",
       "       0, 0, 0, 0, 0, 0, 0, 0, 0, 1, 0, 0, 0, 0, 1, 0, 0, 0, 1, 0, 0, 0,\n",
       "       0, 0, 1, 1, 0, 1, 1, 1, 1, 0, 0, 0, 0, 0, 1, 1, 0, 0, 0, 0, 0, 1,\n",
       "       1, 0, 1, 1, 0, 1, 1, 0, 1, 0, 1, 0, 0, 0, 0, 0, 0, 0, 1, 0, 1, 0,\n",
       "       0, 0, 1, 1, 0, 1, 0, 0, 0, 0, 1, 0, 0, 0, 0, 1, 0, 0, 1, 0, 1, 0,\n",
       "       1, 0, 1, 0, 1, 0, 0, 1, 0, 0, 0, 1, 0, 0, 0, 0, 0, 0, 1, 1, 1, 1,\n",
       "       1, 0, 0, 1, 1, 0, 1, 0, 1, 0, 0, 0, 0, 0, 0, 0, 1, 0, 0, 0, 1, 1,\n",
       "       0, 0, 0, 0, 0, 0, 0, 0, 1, 1, 0, 1, 0, 0, 0, 0, 0, 1, 1, 0, 1, 0,\n",
       "       0, 1, 0, 0, 0, 1, 0, 1, 0, 0, 1, 0, 0, 0, 0, 1, 0, 0, 1, 1, 0, 1,\n",
       "       0, 0, 0, 0, 0, 0, 1, 1, 0, 0, 0, 0, 0, 0, 0, 0, 1, 0, 1, 0, 0, 0,\n",
       "       1, 1, 0, 0, 0, 1, 0, 0, 0, 0, 0, 0, 0, 1, 0, 1, 0, 1, 0, 1, 1, 0,\n",
       "       0, 0, 1, 1, 1, 0, 0, 1, 0, 1, 1, 0, 1, 0, 0, 1, 1, 0, 0, 1, 0, 0,\n",
       "       1, 1, 0, 0, 0, 0, 0, 0, 0, 0, 0, 1, 0, 0, 0, 0, 0, 1, 1, 0, 0, 1,\n",
       "       0, 1, 0, 0, 1, 0, 1, 0, 1, 1, 0, 0, 1, 1, 1, 1, 0, 0, 1, 0, 0, 0])"
      ]
     },
     "execution_count": 48,
     "metadata": {},
     "output_type": "execute_result"
    }
   ],
   "source": [
    "pred = (pred_float > 0.5).astype(np.int)\n",
    "pred"
   ]
  },
  {
   "cell_type": "markdown",
   "metadata": {
    "papermill": {
     "duration": 0.08742,
     "end_time": "2021-01-03T02:57:26.169356",
     "exception": false,
     "start_time": "2021-01-03T02:57:26.081936",
     "status": "completed"
    },
    "tags": []
   },
   "source": [
    "5-3. 提出用csvの保存"
   ]
  },
  {
   "cell_type": "code",
   "execution_count": 49,
   "metadata": {
    "execution": {
     "iopub.execute_input": "2021-01-03T02:57:26.346508Z",
     "iopub.status.busy": "2021-01-03T02:57:26.345607Z",
     "iopub.status.idle": "2021-01-03T02:57:26.601607Z",
     "shell.execute_reply": "2021-01-03T02:57:26.602132Z"
    },
    "papermill": {
     "duration": 0.346064,
     "end_time": "2021-01-03T02:57:26.602280",
     "exception": false,
     "start_time": "2021-01-03T02:57:26.256216",
     "status": "completed"
    },
    "tags": []
   },
   "outputs": [],
   "source": [
    "ss_df[\"Survived\"] = pred\n",
    "ss_df[[\"PassengerId\",\"Survived\"]].to_csv(('submit.csv'),index=False)"
   ]
  },
  {
   "cell_type": "markdown",
   "metadata": {
    "papermill": {
     "duration": 0.086114,
     "end_time": "2021-01-03T02:57:26.775096",
     "exception": false,
     "start_time": "2021-01-03T02:57:26.688982",
     "status": "completed"
    },
    "tags": []
   },
   "source": [
    "6-1 グリッドサーチ"
   ]
  },
  {
   "cell_type": "code",
   "execution_count": 50,
   "metadata": {
    "execution": {
     "iopub.execute_input": "2021-01-03T02:57:26.951972Z",
     "iopub.status.busy": "2021-01-03T02:57:26.951005Z",
     "iopub.status.idle": "2021-01-03T02:57:31.446495Z",
     "shell.execute_reply": "2021-01-03T02:57:31.446075Z"
    },
    "papermill": {
     "duration": 4.585431,
     "end_time": "2021-01-03T02:57:31.446573",
     "exception": false,
     "start_time": "2021-01-03T02:57:26.861142",
     "status": "completed"
    },
    "tags": []
   },
   "outputs": [
    {
     "name": "stdout",
     "output_type": "stream",
     "text": [
      "0.8170673529596385\n",
      "{'SVM__C': 3, 'SVM__gamma': 'auto', 'pca__n_components': None}\n"
     ]
    },
    {
     "data": {
      "text/plain": [
       "array([0, 0, 0, 0, 0, 0, 1, 0, 1, 0, 0, 0, 1, 0, 1, 1, 0, 0, 0, 1, 0, 1,\n",
       "       1, 0, 1, 0, 1, 0, 0, 0, 0, 0, 0, 0, 0, 0, 0, 0, 0, 0, 0, 0, 0, 1,\n",
       "       1, 0, 1, 0, 1, 0, 0, 0, 1, 1, 0, 0, 0, 0, 0, 1, 0, 0, 0, 1, 1, 1,\n",
       "       1, 0, 0, 1, 1, 0, 0, 1, 1, 0, 0, 1, 0, 1, 1, 0, 0, 0, 0, 0, 1, 0,\n",
       "       1, 1, 0, 0, 1, 0, 0, 0, 1, 0, 0, 0, 1, 0, 0, 0, 1, 0, 0, 0, 0, 0,\n",
       "       0, 1, 1, 1, 1, 0, 0, 1, 0, 1, 1, 0, 1, 0, 0, 1, 0, 1, 0, 0, 0, 0,\n",
       "       0, 0, 0, 0, 0, 0, 0, 0, 0, 1, 1, 0, 0, 0, 1, 0, 0, 0, 1, 0, 0, 0,\n",
       "       0, 0, 1, 0, 0, 0, 1, 1, 1, 0, 0, 0, 0, 0, 1, 0, 0, 0, 0, 0, 0, 1,\n",
       "       1, 0, 0, 1, 0, 1, 1, 0, 1, 0, 1, 0, 0, 0, 0, 0, 0, 0, 1, 0, 1, 0,\n",
       "       0, 0, 1, 1, 0, 1, 0, 0, 1, 0, 1, 0, 0, 0, 0, 1, 0, 0, 1, 0, 1, 0,\n",
       "       1, 0, 1, 0, 1, 1, 0, 1, 0, 0, 0, 1, 0, 0, 0, 0, 1, 0, 1, 1, 1, 1,\n",
       "       0, 0, 0, 1, 1, 0, 1, 1, 1, 0, 0, 0, 0, 0, 0, 0, 1, 0, 0, 0, 1, 1,\n",
       "       0, 0, 0, 0, 0, 0, 0, 0, 1, 1, 0, 1, 0, 0, 0, 0, 0, 1, 1, 1, 1, 0,\n",
       "       0, 0, 0, 0, 0, 1, 0, 1, 0, 0, 1, 0, 0, 0, 0, 1, 0, 0, 1, 1, 0, 1,\n",
       "       0, 0, 0, 0, 0, 1, 1, 1, 0, 0, 0, 0, 0, 0, 0, 0, 1, 0, 1, 0, 0, 0,\n",
       "       1, 1, 0, 1, 0, 0, 0, 0, 0, 0, 0, 0, 0, 1, 0, 0, 0, 1, 0, 1, 1, 0,\n",
       "       0, 0, 1, 0, 1, 0, 0, 0, 0, 1, 1, 0, 1, 0, 0, 0, 1, 0, 0, 1, 0, 0,\n",
       "       1, 1, 0, 0, 0, 0, 0, 0, 0, 0, 0, 1, 0, 0, 0, 0, 0, 1, 1, 0, 0, 1,\n",
       "       0, 1, 0, 0, 1, 0, 1, 0, 1, 1, 0, 0, 1, 1, 1, 1, 0, 0, 1, 0, 0, 0])"
      ]
     },
     "execution_count": 50,
     "metadata": {},
     "output_type": "execute_result"
    }
   ],
   "source": [
    "classifier_pipeline = Pipeline([('ss',StandardScaler()), (\"pca\",PCA()),(\"SVM\",SVC())])\n",
    "\n",
    "param_grid = dict(pca__n_components=[5, 10, None], SVM__C=[0.3, 1, 3],SVM__gamma=[\"scale\",\"auto\"])\n",
    "grid_search = GridSearchCV(classifier_pipeline, param_grid=param_grid, scoring='accuracy')\n",
    "grid_search.fit(train_filled_fe_df,train_df['Survived'])\n",
    "\n",
    "print (grid_search.best_score_)\n",
    "print (grid_search.best_params_)\n",
    "grid_search.predict(test_filled_fe_df)"
   ]
  },
  {
   "cell_type": "markdown",
   "metadata": {
    "papermill": {
     "duration": 0.065947,
     "end_time": "2021-01-03T02:57:31.580115",
     "exception": false,
     "start_time": "2021-01-03T02:57:31.514168",
     "status": "completed"
    },
    "tags": []
   },
   "source": [
    "6-2. ブレンディング"
   ]
  },
  {
   "cell_type": "code",
   "execution_count": 51,
   "metadata": {
    "execution": {
     "iopub.execute_input": "2021-01-03T02:57:31.718167Z",
     "iopub.status.busy": "2021-01-03T02:57:31.717273Z",
     "iopub.status.idle": "2021-01-03T02:57:34.477736Z",
     "shell.execute_reply": "2021-01-03T02:57:34.478607Z"
    },
    "papermill": {
     "duration": 2.833629,
     "end_time": "2021-01-03T02:57:34.478812",
     "exception": false,
     "start_time": "2021-01-03T02:57:31.645183",
     "status": "completed"
    },
    "tags": []
   },
   "outputs": [
    {
     "name": "stdout",
     "output_type": "stream",
     "text": [
      "cv-score-mean 0.8103383340656581\n",
      "cv-score-mean 0.7822798317745276\n",
      "cv-score-mean 0.7957378695624884\n"
     ]
    }
   ],
   "source": [
    "def get_pred(clf):\n",
    "    df = pd.concat([train_df, test_df],axis=0)\n",
    "    filled_df = df[numeric_columns].fillna(train_df.median())\n",
    "    categorical_df = pd.get_dummies(df[categorical_columns],drop_first=True)\n",
    "    filled_fe_df = pd.concat([filled_df, categorical_df], axis=1)\n",
    "    filled_fe_df = pd.concat([filled_fe_df,pd.get_dummies(df.Cabin.str[0])], axis=1)\n",
    "    classifier_pipeline = make_pipeline(StandardScaler(), PCA(),clf)\n",
    "    train_filled_fe_df = filled_fe_df[:len(train_df)]\n",
    "    test_filled_fe_df = filled_fe_df[len(train_df):]\n",
    "    cv_results = cross_validate(classifier_pipeline, train_filled_fe_df,train_df['Survived'], scoring='accuracy', return_estimator=True)\n",
    "    print ('cv-score-mean',cv_results['test_score'].mean())\n",
    "    preds = []\n",
    "    for estimators in cv_results['estimator']:\n",
    "        preds.append(estimators.predict(test_filled_fe_df))\n",
    "    pred_float = np.mean(preds,axis=0)\n",
    "    return pred_float\n",
    "svc = SVC()\n",
    "svc_pred = get_pred(svc)\n",
    "rfc = RandomForestClassifier()\n",
    "rfc_pred = get_pred(rfc)\n",
    "knn = KNeighborsClassifier()\n",
    "knn_pred = get_pred(knn)"
   ]
  },
  {
   "cell_type": "code",
   "execution_count": 52,
   "metadata": {
    "execution": {
     "iopub.execute_input": "2021-01-03T02:57:34.674732Z",
     "iopub.status.busy": "2021-01-03T02:57:34.673689Z",
     "iopub.status.idle": "2021-01-03T02:57:34.678325Z",
     "shell.execute_reply": "2021-01-03T02:57:34.678860Z"
    },
    "papermill": {
     "duration": 0.098578,
     "end_time": "2021-01-03T02:57:34.678981",
     "exception": false,
     "start_time": "2021-01-03T02:57:34.580403",
     "status": "completed"
    },
    "tags": []
   },
   "outputs": [],
   "source": [
    "pred_float = (svc_pred + rfc_pred+ knn_pred)/3\n",
    "pred = (pred_float > 0.5).astype(np.int)"
   ]
  },
  {
   "cell_type": "markdown",
   "metadata": {
    "papermill": {
     "duration": 0.088158,
     "end_time": "2021-01-03T02:57:34.858216",
     "exception": false,
     "start_time": "2021-01-03T02:57:34.770058",
     "status": "completed"
    },
    "tags": []
   },
   "source": [
    "6-3. スタッキング"
   ]
  },
  {
   "cell_type": "code",
   "execution_count": 53,
   "metadata": {
    "execution": {
     "iopub.execute_input": "2021-01-03T02:57:35.042647Z",
     "iopub.status.busy": "2021-01-03T02:57:35.041692Z",
     "iopub.status.idle": "2021-01-03T02:57:44.761644Z",
     "shell.execute_reply": "2021-01-03T02:57:44.762223Z"
    },
    "papermill": {
     "duration": 9.814957,
     "end_time": "2021-01-03T02:57:44.762389",
     "exception": false,
     "start_time": "2021-01-03T02:57:34.947432",
     "status": "completed"
    },
    "tags": []
   },
   "outputs": [
    {
     "name": "stdout",
     "output_type": "stream",
     "text": [
      "cv-score-mean 0.8339087314041805\n"
     ]
    }
   ],
   "source": [
    "svm = SVC()\n",
    "nn = MLPClassifier()\n",
    "nb = BernoulliNB()\n",
    "knn = KNeighborsClassifier()\n",
    "rfc = RandomForestClassifier()\n",
    "lgbm = lgb.LGBMClassifier()\n",
    "estimators = [('nb', nb), ('knn', knn),('rfc', rfc), ('lgbm', lgbm),]\n",
    "clf = StackingClassifier(estimators=estimators, final_estimator=LogisticRegression())\n",
    "\n",
    "cv_results = cross_validate(clf, train_filled_fe_df,train_df['Survived'], scoring='accuracy')\n",
    "print ('cv-score-mean',cv_results['test_score'].mean())"
   ]
  },
  {
   "cell_type": "markdown",
   "metadata": {
    "papermill": {
     "duration": 0.106105,
     "end_time": "2021-01-03T02:57:44.981126",
     "exception": false,
     "start_time": "2021-01-03T02:57:44.875021",
     "status": "completed"
    },
    "tags": []
   },
   "source": [
    "6-4. 特徴選択"
   ]
  },
  {
   "cell_type": "code",
   "execution_count": 54,
   "metadata": {
    "execution": {
     "iopub.execute_input": "2021-01-03T02:57:45.166910Z",
     "iopub.status.busy": "2021-01-03T02:57:45.166289Z",
     "iopub.status.idle": "2021-01-03T02:57:45.791554Z",
     "shell.execute_reply": "2021-01-03T02:57:45.792640Z"
    },
    "papermill": {
     "duration": 0.722249,
     "end_time": "2021-01-03T02:57:45.792839",
     "exception": false,
     "start_time": "2021-01-03T02:57:45.070590",
     "status": "completed"
    },
    "tags": []
   },
   "outputs": [
    {
     "name": "stderr",
     "output_type": "stream",
     "text": [
      "/opt/conda/lib/python3.7/site-packages/sklearn/feature_selection/_univariate_selection.py:115: UserWarning: Features [15] are constant.\n",
      "  UserWarning)\n",
      "/opt/conda/lib/python3.7/site-packages/sklearn/feature_selection/_univariate_selection.py:116: RuntimeWarning: invalid value encountered in true_divide\n",
      "  f = msb / msw\n"
     ]
    },
    {
     "name": "stdout",
     "output_type": "stream",
     "text": [
      "cv-score-mean 0.7867742137969995\n"
     ]
    }
   ],
   "source": [
    "classifier_pipeline = make_pipeline(SelectKBest(),StandardScaler(), PCA(),lgb.LGBMClassifier())\n",
    "cv_results = cross_validate(classifier_pipeline, train_filled_fe_df,train_df['Survived'], scoring='accuracy')\n",
    "print ('cv-score-mean',cv_results['test_score'].mean())"
   ]
  },
  {
   "cell_type": "markdown",
   "metadata": {
    "papermill": {
     "duration": 0.103927,
     "end_time": "2021-01-03T02:57:46.011979",
     "exception": false,
     "start_time": "2021-01-03T02:57:45.908052",
     "status": "completed"
    },
    "tags": []
   },
   "source": [
    "6-5. TabNet"
   ]
  },
  {
   "cell_type": "code",
   "execution_count": 55,
   "metadata": {
    "execution": {
     "iopub.execute_input": "2021-01-03T02:57:46.199259Z",
     "iopub.status.busy": "2021-01-03T02:57:46.198453Z",
     "iopub.status.idle": "2021-01-03T02:57:55.750094Z",
     "shell.execute_reply": "2021-01-03T02:57:55.748464Z"
    },
    "papermill": {
     "duration": 9.647869,
     "end_time": "2021-01-03T02:57:55.750208",
     "exception": false,
     "start_time": "2021-01-03T02:57:46.102339",
     "status": "completed"
    },
    "tags": []
   },
   "outputs": [
    {
     "name": "stdout",
     "output_type": "stream",
     "text": [
      "Collecting pytorch-tabnet\r\n",
      "  Downloading pytorch_tabnet-3.0.0-py3-none-any.whl (38 kB)\r\n",
      "Requirement already satisfied: numpy<2.0,>=1.17 in /opt/conda/lib/python3.7/site-packages (from pytorch-tabnet) (1.18.5)\r\n",
      "Requirement already satisfied: scikit_learn>0.21 in /opt/conda/lib/python3.7/site-packages (from pytorch-tabnet) (0.23.2)\r\n",
      "Requirement already satisfied: tqdm<5.0,>=4.36 in /opt/conda/lib/python3.7/site-packages (from pytorch-tabnet) (4.45.0)\r\n",
      "Requirement already satisfied: torch<2.0,>=1.2 in /opt/conda/lib/python3.7/site-packages (from pytorch-tabnet) (1.7.0)\r\n",
      "Requirement already satisfied: scipy>1.4 in /opt/conda/lib/python3.7/site-packages (from pytorch-tabnet) (1.4.1)\r\n",
      "Requirement already satisfied: numpy<2.0,>=1.17 in /opt/conda/lib/python3.7/site-packages (from pytorch-tabnet) (1.18.5)\r\n",
      "Requirement already satisfied: joblib>=0.11 in /opt/conda/lib/python3.7/site-packages (from scikit_learn>0.21->pytorch-tabnet) (0.14.1)\r\n",
      "Requirement already satisfied: threadpoolctl>=2.0.0 in /opt/conda/lib/python3.7/site-packages (from scikit_learn>0.21->pytorch-tabnet) (2.1.0)\r\n",
      "Requirement already satisfied: scipy>1.4 in /opt/conda/lib/python3.7/site-packages (from pytorch-tabnet) (1.4.1)\r\n",
      "Requirement already satisfied: numpy<2.0,>=1.17 in /opt/conda/lib/python3.7/site-packages (from pytorch-tabnet) (1.18.5)\r\n",
      "Requirement already satisfied: future in /opt/conda/lib/python3.7/site-packages (from torch<2.0,>=1.2->pytorch-tabnet) (0.18.2)\r\n",
      "Requirement already satisfied: typing_extensions in /opt/conda/lib/python3.7/site-packages (from torch<2.0,>=1.2->pytorch-tabnet) (3.7.4.1)\r\n",
      "Requirement already satisfied: dataclasses in /opt/conda/lib/python3.7/site-packages (from torch<2.0,>=1.2->pytorch-tabnet) (0.6)\r\n",
      "Requirement already satisfied: numpy<2.0,>=1.17 in /opt/conda/lib/python3.7/site-packages (from pytorch-tabnet) (1.18.5)\r\n",
      "Installing collected packages: pytorch-tabnet\r\n",
      "Successfully installed pytorch-tabnet-3.0.0\r\n",
      "\u001b[33mWARNING: You are using pip version 20.3.1; however, version 20.3.3 is available.\r\n",
      "You should consider upgrading via the '/opt/conda/bin/python3.7 -m pip install --upgrade pip' command.\u001b[0m\r\n"
     ]
    }
   ],
   "source": [
    "!pip install pytorch-tabnet\n",
    "from pytorch_tabnet.tab_model import TabNetClassifier"
   ]
  },
  {
   "cell_type": "code",
   "execution_count": 56,
   "metadata": {
    "execution": {
     "iopub.execute_input": "2021-01-03T02:57:55.945174Z",
     "iopub.status.busy": "2021-01-03T02:57:55.944553Z",
     "iopub.status.idle": "2021-01-03T02:58:42.946022Z",
     "shell.execute_reply": "2021-01-03T02:58:42.946542Z"
    },
    "papermill": {
     "duration": 47.102998,
     "end_time": "2021-01-03T02:58:42.946678",
     "exception": false,
     "start_time": "2021-01-03T02:57:55.843680",
     "status": "completed"
    },
    "tags": []
   },
   "outputs": [
    {
     "name": "stdout",
     "output_type": "stream",
     "text": [
      "Device used : cpu\n",
      "Device used : cpu\n",
      "No early stopping will be performed, last training weights will be used.\n",
      "epoch 0  | loss: 0.83852 |  0:00:00s\n",
      "epoch 30 | loss: 0.40886 |  0:00:03s\n",
      "epoch 60 | loss: 0.38732 |  0:00:06s\n",
      "epoch 90 | loss: 0.36845 |  0:00:09s\n",
      "Device used : cpu\n",
      "No early stopping will be performed, last training weights will be used.\n",
      "epoch 0  | loss: 0.75751 |  0:00:00s\n",
      "epoch 30 | loss: 0.42241 |  0:00:03s\n",
      "epoch 60 | loss: 0.3631  |  0:00:05s\n",
      "epoch 90 | loss: 0.34097 |  0:00:08s\n",
      "Device used : cpu\n",
      "No early stopping will be performed, last training weights will be used.\n",
      "epoch 0  | loss: 0.79474 |  0:00:00s\n",
      "epoch 30 | loss: 0.44402 |  0:00:02s\n",
      "epoch 60 | loss: 0.40453 |  0:00:05s\n",
      "epoch 90 | loss: 0.36415 |  0:00:08s\n",
      "Device used : cpu\n",
      "No early stopping will be performed, last training weights will be used.\n",
      "epoch 0  | loss: 0.80491 |  0:00:00s\n",
      "epoch 30 | loss: 0.47384 |  0:00:02s\n",
      "epoch 60 | loss: 0.38775 |  0:00:05s\n",
      "epoch 90 | loss: 0.38389 |  0:00:08s\n",
      "Device used : cpu\n",
      "No early stopping will be performed, last training weights will be used.\n",
      "epoch 0  | loss: 0.80645 |  0:00:00s\n",
      "epoch 30 | loss: 0.45932 |  0:00:02s\n",
      "epoch 60 | loss: 0.40771 |  0:00:05s\n",
      "epoch 90 | loss: 0.37965 |  0:00:07s\n",
      "cv-score-mean 0.8036155922415418\n"
     ]
    }
   ],
   "source": [
    "params = {\"verbose\":30}\n",
    "classifier_pipeline = make_pipeline(StandardScaler(), PCA(),TabNetClassifier(**params))\n",
    "cv_results = cross_validate(classifier_pipeline, train_filled_fe_df,train_df['Survived'], scoring='accuracy')\n",
    "print ('cv-score-mean',cv_results['test_score'].mean())"
   ]
  },
  {
   "cell_type": "code",
   "execution_count": null,
   "metadata": {
    "papermill": {
     "duration": 0.102726,
     "end_time": "2021-01-03T02:58:43.152901",
     "exception": false,
     "start_time": "2021-01-03T02:58:43.050175",
     "status": "completed"
    },
    "tags": []
   },
   "outputs": [],
   "source": []
  }
 ],
 "metadata": {
  "kernelspec": {
   "display_name": "Python 3",
   "language": "python",
   "name": "python3"
  },
  "language_info": {
   "codemirror_mode": {
    "name": "ipython",
    "version": 3
   },
   "file_extension": ".py",
   "mimetype": "text/x-python",
   "name": "python",
   "nbconvert_exporter": "python",
   "pygments_lexer": "ipython3",
   "version": "3.7.6"
  },
  "papermill": {
   "duration": 113.699527,
   "end_time": "2021-01-03T02:58:43.362554",
   "environment_variables": {},
   "exception": null,
   "input_path": "__notebook__.ipynb",
   "output_path": "__notebook__.ipynb",
   "parameters": {},
   "start_time": "2021-01-03T02:56:49.663027",
   "version": "2.1.0"
  }
 },
 "nbformat": 4,
 "nbformat_minor": 4
}
